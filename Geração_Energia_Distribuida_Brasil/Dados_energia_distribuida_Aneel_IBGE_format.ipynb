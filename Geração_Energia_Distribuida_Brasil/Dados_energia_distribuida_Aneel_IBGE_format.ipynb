{
 "cells": [
  {
   "cell_type": "markdown",
   "id": "679415b3",
   "metadata": {},
   "source": [
    "## Importação das bibliotecas e base de dados\n",
    "\n",
    "Base de dados:\n",
    "\n",
    "ANEEL*: https://dadosabertos.aneel.gov.br/pt_BR/dataset/relacao-de-empreendimentos-de-geracao-distribuida/resource/b1bd71e7-d0ad-4214-9053-cbd58e9564a7\n",
    "\n",
    "*Download feito no dia 14/07/23 (dados referentes a este dia)\n",
    "\n",
    "IBGE: https://www.ibge.gov.br/estatisticas/sociais/populacao/22827-censo-demografico-2022.html?edicao=37225&t=resultados\n"
   ]
  },
  {
   "cell_type": "code",
   "execution_count": 1,
   "id": "d933ed45",
   "metadata": {},
   "outputs": [],
   "source": [
    "import pandas as pd\n",
    "from unidecode import unidecode\n",
    "import psycopg2"
   ]
  },
  {
   "cell_type": "code",
   "execution_count": 2,
   "id": "776849dd",
   "metadata": {},
   "outputs": [],
   "source": [
    "pd.set_option('display.max_columns', None)"
   ]
  },
  {
   "cell_type": "markdown",
   "id": "e01e8bc2",
   "metadata": {},
   "source": [
    "### Carregamento de Dados da ANEEL"
   ]
  },
  {
   "cell_type": "code",
   "execution_count": 3,
   "id": "876d23cc",
   "metadata": {},
   "outputs": [
    {
     "name": "stderr",
     "output_type": "stream",
     "text": [
      "C:\\Users\\Carlos\\AppData\\Local\\Temp\\ipykernel_18048\\2508403258.py:1: DtypeWarning: Columns (30,31,32) have mixed types. Specify dtype option on import or set low_memory=False.\n",
      "  df_aneel = pd.read_csv(\"empreendimento-geracao-distribuida.csv\", encoding='latin1', delimiter=';')\n"
     ]
    },
    {
     "data": {
      "text/html": [
       "<div>\n",
       "<style scoped>\n",
       "    .dataframe tbody tr th:only-of-type {\n",
       "        vertical-align: middle;\n",
       "    }\n",
       "\n",
       "    .dataframe tbody tr th {\n",
       "        vertical-align: top;\n",
       "    }\n",
       "\n",
       "    .dataframe thead th {\n",
       "        text-align: right;\n",
       "    }\n",
       "</style>\n",
       "<table border=\"1\" class=\"dataframe\">\n",
       "  <thead>\n",
       "    <tr style=\"text-align: right;\">\n",
       "      <th></th>\n",
       "      <th>DatGeracaoConjuntoDados</th>\n",
       "      <th>AnmPeriodoReferencia</th>\n",
       "      <th>NumCNPJDistribuidora</th>\n",
       "      <th>SigAgente</th>\n",
       "      <th>NomAgente</th>\n",
       "      <th>CodClasseConsumo</th>\n",
       "      <th>DscClasseConsumo</th>\n",
       "      <th>CodSubGrupoTarifario</th>\n",
       "      <th>DscSubGrupoTarifario</th>\n",
       "      <th>codUFibge</th>\n",
       "      <th>SigUF</th>\n",
       "      <th>codRegiao</th>\n",
       "      <th>NomRegiao</th>\n",
       "      <th>CodMunicipioIbge</th>\n",
       "      <th>NomMunicipio</th>\n",
       "      <th>CodCEP</th>\n",
       "      <th>SigTipoConsumidor</th>\n",
       "      <th>NumCPFCNPJ</th>\n",
       "      <th>NomeTitularEmpreendimento</th>\n",
       "      <th>CodEmpreendimento</th>\n",
       "      <th>DthAtualizaCadastralEmpreend</th>\n",
       "      <th>SigModalidadeEmpreendimento</th>\n",
       "      <th>DscModalidadeHabilitado</th>\n",
       "      <th>QtdUCRecebeCredito</th>\n",
       "      <th>SigTipoGeracao</th>\n",
       "      <th>DscFonteGeracao</th>\n",
       "      <th>DscPorte</th>\n",
       "      <th>MdaPotenciaInstaladaKW</th>\n",
       "      <th>NumCoordNEmpreendimento</th>\n",
       "      <th>NumCoordEEmpreendimento</th>\n",
       "      <th>NomSubEstacao</th>\n",
       "      <th>NumCoordESub</th>\n",
       "      <th>NumCoordNSub</th>\n",
       "    </tr>\n",
       "  </thead>\n",
       "  <tbody>\n",
       "    <tr>\n",
       "      <th>0</th>\n",
       "      <td>2023-07-14</td>\n",
       "      <td>07/2023</td>\n",
       "      <td>3.305020e+13</td>\n",
       "      <td>CPFL-PAULISTA</td>\n",
       "      <td>COMPANHIA PAULISTA DE FORÇA E LUZ</td>\n",
       "      <td>1</td>\n",
       "      <td>Residencial</td>\n",
       "      <td>9</td>\n",
       "      <td>B1</td>\n",
       "      <td>35.0</td>\n",
       "      <td>SP</td>\n",
       "      <td>3501.0</td>\n",
       "      <td>Sudeste</td>\n",
       "      <td>3533007.0</td>\n",
       "      <td>Nova Granada</td>\n",
       "      <td>15440***</td>\n",
       "      <td>PF</td>\n",
       "      <td>***.497.808-**</td>\n",
       "      <td>***</td>\n",
       "      <td>NaN</td>\n",
       "      <td>2023-01-23</td>\n",
       "      <td>P</td>\n",
       "      <td>Com Microgeracao ou Minigeracao distribuida</td>\n",
       "      <td>1</td>\n",
       "      <td>UFV</td>\n",
       "      <td>Radiação solar</td>\n",
       "      <td>Microgeracao</td>\n",
       "      <td>3,30</td>\n",
       "      <td>NaN</td>\n",
       "      <td>NaN</td>\n",
       "      <td>NaN</td>\n",
       "      <td>NaN</td>\n",
       "      <td>NaN</td>\n",
       "    </tr>\n",
       "    <tr>\n",
       "      <th>1</th>\n",
       "      <td>2023-07-14</td>\n",
       "      <td>07/2023</td>\n",
       "      <td>4.065033e+12</td>\n",
       "      <td>ELETROACRE</td>\n",
       "      <td>ENERGISA ACRE - DISTRIBUIDORA DE ENERGIA S.A</td>\n",
       "      <td>2</td>\n",
       "      <td>Comercial</td>\n",
       "      <td>11</td>\n",
       "      <td>B3</td>\n",
       "      <td>12.0</td>\n",
       "      <td>AC</td>\n",
       "      <td>1202.0</td>\n",
       "      <td>Norte</td>\n",
       "      <td>1200401.0</td>\n",
       "      <td>Rio Branco</td>\n",
       "      <td>69912452</td>\n",
       "      <td>PJ</td>\n",
       "      <td>12005360000165</td>\n",
       "      <td>ELITE ENGENHARIA LTDA</td>\n",
       "      <td>GD.AC.000.000.590</td>\n",
       "      <td>2015-07-15</td>\n",
       "      <td>P</td>\n",
       "      <td>Com Microgeracao ou Minigeracao distribuida</td>\n",
       "      <td>1</td>\n",
       "      <td>UFV</td>\n",
       "      <td>Radiação solar</td>\n",
       "      <td>Microgeracao</td>\n",
       "      <td>32,50</td>\n",
       "      <td>-67,85</td>\n",
       "      <td>-9,96</td>\n",
       "      <td>NaN</td>\n",
       "      <td>NaN</td>\n",
       "      <td>NaN</td>\n",
       "    </tr>\n",
       "    <tr>\n",
       "      <th>2</th>\n",
       "      <td>2023-07-14</td>\n",
       "      <td>07/2023</td>\n",
       "      <td>4.065033e+12</td>\n",
       "      <td>ELETROACRE</td>\n",
       "      <td>ENERGISA ACRE - DISTRIBUIDORA DE ENERGIA S.A</td>\n",
       "      <td>1</td>\n",
       "      <td>Residencial</td>\n",
       "      <td>9</td>\n",
       "      <td>B1</td>\n",
       "      <td>12.0</td>\n",
       "      <td>AC</td>\n",
       "      <td>1201.0</td>\n",
       "      <td>Norte</td>\n",
       "      <td>1200609.0</td>\n",
       "      <td>Tarauacá</td>\n",
       "      <td>69970***</td>\n",
       "      <td>PF</td>\n",
       "      <td>***.582.542-**</td>\n",
       "      <td>***</td>\n",
       "      <td>GD.AC.000.000.591</td>\n",
       "      <td>2015-04-20</td>\n",
       "      <td>P</td>\n",
       "      <td>Com Microgeracao ou Minigeracao distribuida</td>\n",
       "      <td>1</td>\n",
       "      <td>UFV</td>\n",
       "      <td>Radiação solar</td>\n",
       "      <td>Microgeracao</td>\n",
       "      <td>4,00</td>\n",
       "      <td>-70,78</td>\n",
       "      <td>-8,15</td>\n",
       "      <td>NaN</td>\n",
       "      <td>NaN</td>\n",
       "      <td>NaN</td>\n",
       "    </tr>\n",
       "    <tr>\n",
       "      <th>3</th>\n",
       "      <td>2023-07-14</td>\n",
       "      <td>07/2023</td>\n",
       "      <td>4.065033e+12</td>\n",
       "      <td>ELETROACRE</td>\n",
       "      <td>ENERGISA ACRE - DISTRIBUIDORA DE ENERGIA S.A</td>\n",
       "      <td>2</td>\n",
       "      <td>Comercial</td>\n",
       "      <td>11</td>\n",
       "      <td>B3</td>\n",
       "      <td>12.0</td>\n",
       "      <td>AC</td>\n",
       "      <td>1202.0</td>\n",
       "      <td>Norte</td>\n",
       "      <td>1200401.0</td>\n",
       "      <td>Rio Branco</td>\n",
       "      <td>69900273</td>\n",
       "      <td>PJ</td>\n",
       "      <td>05458883000100</td>\n",
       "      <td>ADVOCACIA PALÁCIO DANTAS</td>\n",
       "      <td>GD.AC.000.001.540</td>\n",
       "      <td>2015-06-22</td>\n",
       "      <td>P</td>\n",
       "      <td>Com Microgeracao ou Minigeracao distribuida</td>\n",
       "      <td>1</td>\n",
       "      <td>UFV</td>\n",
       "      <td>Radiação solar</td>\n",
       "      <td>Microgeracao</td>\n",
       "      <td>2,00</td>\n",
       "      <td>NaN</td>\n",
       "      <td>NaN</td>\n",
       "      <td>NaN</td>\n",
       "      <td>NaN</td>\n",
       "      <td>NaN</td>\n",
       "    </tr>\n",
       "    <tr>\n",
       "      <th>4</th>\n",
       "      <td>2023-07-14</td>\n",
       "      <td>07/2023</td>\n",
       "      <td>4.065033e+12</td>\n",
       "      <td>ELETROACRE</td>\n",
       "      <td>ENERGISA ACRE - DISTRIBUIDORA DE ENERGIA S.A</td>\n",
       "      <td>1</td>\n",
       "      <td>Residencial</td>\n",
       "      <td>9</td>\n",
       "      <td>B1</td>\n",
       "      <td>12.0</td>\n",
       "      <td>AC</td>\n",
       "      <td>1202.0</td>\n",
       "      <td>Norte</td>\n",
       "      <td>1200401.0</td>\n",
       "      <td>Rio Branco</td>\n",
       "      <td>69919***</td>\n",
       "      <td>PF</td>\n",
       "      <td>***.754.418-**</td>\n",
       "      <td>***</td>\n",
       "      <td>GD.AC.000.001.552</td>\n",
       "      <td>2016-08-25</td>\n",
       "      <td>P</td>\n",
       "      <td>Com Microgeracao ou Minigeracao distribuida</td>\n",
       "      <td>1</td>\n",
       "      <td>UFV</td>\n",
       "      <td>Radiação solar</td>\n",
       "      <td>Microgeracao</td>\n",
       "      <td>2,00</td>\n",
       "      <td>-67,86</td>\n",
       "      <td>-9,95</td>\n",
       "      <td>NaN</td>\n",
       "      <td>NaN</td>\n",
       "      <td>NaN</td>\n",
       "    </tr>\n",
       "  </tbody>\n",
       "</table>\n",
       "</div>"
      ],
      "text/plain": [
       "  DatGeracaoConjuntoDados AnmPeriodoReferencia  NumCNPJDistribuidora  \\\n",
       "0              2023-07-14              07/2023          3.305020e+13   \n",
       "1              2023-07-14              07/2023          4.065033e+12   \n",
       "2              2023-07-14              07/2023          4.065033e+12   \n",
       "3              2023-07-14              07/2023          4.065033e+12   \n",
       "4              2023-07-14              07/2023          4.065033e+12   \n",
       "\n",
       "       SigAgente                                     NomAgente  \\\n",
       "0  CPFL-PAULISTA             COMPANHIA PAULISTA DE FORÇA E LUZ   \n",
       "1     ELETROACRE  ENERGISA ACRE - DISTRIBUIDORA DE ENERGIA S.A   \n",
       "2     ELETROACRE  ENERGISA ACRE - DISTRIBUIDORA DE ENERGIA S.A   \n",
       "3     ELETROACRE  ENERGISA ACRE - DISTRIBUIDORA DE ENERGIA S.A   \n",
       "4     ELETROACRE  ENERGISA ACRE - DISTRIBUIDORA DE ENERGIA S.A   \n",
       "\n",
       "   CodClasseConsumo DscClasseConsumo  CodSubGrupoTarifario  \\\n",
       "0                 1      Residencial                     9   \n",
       "1                 2        Comercial                    11   \n",
       "2                 1      Residencial                     9   \n",
       "3                 2        Comercial                    11   \n",
       "4                 1      Residencial                     9   \n",
       "\n",
       "  DscSubGrupoTarifario  codUFibge SigUF  codRegiao NomRegiao  \\\n",
       "0                   B1       35.0    SP     3501.0   Sudeste   \n",
       "1                   B3       12.0    AC     1202.0     Norte   \n",
       "2                   B1       12.0    AC     1201.0     Norte   \n",
       "3                   B3       12.0    AC     1202.0     Norte   \n",
       "4                   B1       12.0    AC     1202.0     Norte   \n",
       "\n",
       "   CodMunicipioIbge  NomMunicipio    CodCEP SigTipoConsumidor      NumCPFCNPJ  \\\n",
       "0         3533007.0  Nova Granada  15440***                PF  ***.497.808-**   \n",
       "1         1200401.0    Rio Branco  69912452                PJ  12005360000165   \n",
       "2         1200609.0      Tarauacá  69970***                PF  ***.582.542-**   \n",
       "3         1200401.0    Rio Branco  69900273                PJ  05458883000100   \n",
       "4         1200401.0    Rio Branco  69919***                PF  ***.754.418-**   \n",
       "\n",
       "  NomeTitularEmpreendimento  CodEmpreendimento DthAtualizaCadastralEmpreend  \\\n",
       "0                       ***                NaN                   2023-01-23   \n",
       "1     ELITE ENGENHARIA LTDA  GD.AC.000.000.590                   2015-07-15   \n",
       "2                       ***  GD.AC.000.000.591                   2015-04-20   \n",
       "3  ADVOCACIA PALÁCIO DANTAS  GD.AC.000.001.540                   2015-06-22   \n",
       "4                       ***  GD.AC.000.001.552                   2016-08-25   \n",
       "\n",
       "  SigModalidadeEmpreendimento                      DscModalidadeHabilitado  \\\n",
       "0                           P  Com Microgeracao ou Minigeracao distribuida   \n",
       "1                           P  Com Microgeracao ou Minigeracao distribuida   \n",
       "2                           P  Com Microgeracao ou Minigeracao distribuida   \n",
       "3                           P  Com Microgeracao ou Minigeracao distribuida   \n",
       "4                           P  Com Microgeracao ou Minigeracao distribuida   \n",
       "\n",
       "   QtdUCRecebeCredito SigTipoGeracao DscFonteGeracao      DscPorte  \\\n",
       "0                   1            UFV  Radiação solar  Microgeracao   \n",
       "1                   1            UFV  Radiação solar  Microgeracao   \n",
       "2                   1            UFV  Radiação solar  Microgeracao   \n",
       "3                   1            UFV  Radiação solar  Microgeracao   \n",
       "4                   1            UFV  Radiação solar  Microgeracao   \n",
       "\n",
       "  MdaPotenciaInstaladaKW NumCoordNEmpreendimento NumCoordEEmpreendimento  \\\n",
       "0                   3,30                     NaN                     NaN   \n",
       "1                  32,50                  -67,85                   -9,96   \n",
       "2                   4,00                  -70,78                   -8,15   \n",
       "3                   2,00                     NaN                     NaN   \n",
       "4                   2,00                  -67,86                   -9,95   \n",
       "\n",
       "  NomSubEstacao NumCoordESub NumCoordNSub  \n",
       "0           NaN          NaN          NaN  \n",
       "1           NaN          NaN          NaN  \n",
       "2           NaN          NaN          NaN  \n",
       "3           NaN          NaN          NaN  \n",
       "4           NaN          NaN          NaN  "
      ]
     },
     "execution_count": 3,
     "metadata": {},
     "output_type": "execute_result"
    }
   ],
   "source": [
    "df_aneel = pd.read_csv(\"empreendimento-geracao-distribuida.csv\", encoding='latin1', delimiter=';')\n",
    "df_aneel.head()"
   ]
  },
  {
   "cell_type": "code",
   "execution_count": 4,
   "id": "05d47cef",
   "metadata": {},
   "outputs": [
    {
     "name": "stdout",
     "output_type": "stream",
     "text": [
      "<class 'pandas.core.frame.DataFrame'>\n",
      "RangeIndex: 2038041 entries, 0 to 2038040\n",
      "Data columns (total 33 columns):\n",
      " #   Column                        Dtype  \n",
      "---  ------                        -----  \n",
      " 0   DatGeracaoConjuntoDados       object \n",
      " 1   AnmPeriodoReferencia          object \n",
      " 2   NumCNPJDistribuidora          float64\n",
      " 3   SigAgente                     object \n",
      " 4   NomAgente                     object \n",
      " 5   CodClasseConsumo              int64  \n",
      " 6   DscClasseConsumo              object \n",
      " 7   CodSubGrupoTarifario          int64  \n",
      " 8   DscSubGrupoTarifario          object \n",
      " 9   codUFibge                     float64\n",
      " 10  SigUF                         object \n",
      " 11  codRegiao                     float64\n",
      " 12  NomRegiao                     object \n",
      " 13  CodMunicipioIbge              float64\n",
      " 14  NomMunicipio                  object \n",
      " 15  CodCEP                        object \n",
      " 16  SigTipoConsumidor             object \n",
      " 17  NumCPFCNPJ                    object \n",
      " 18  NomeTitularEmpreendimento     object \n",
      " 19  CodEmpreendimento             object \n",
      " 20  DthAtualizaCadastralEmpreend  object \n",
      " 21  SigModalidadeEmpreendimento   object \n",
      " 22  DscModalidadeHabilitado       object \n",
      " 23  QtdUCRecebeCredito            int64  \n",
      " 24  SigTipoGeracao                object \n",
      " 25  DscFonteGeracao               object \n",
      " 26  DscPorte                      object \n",
      " 27  MdaPotenciaInstaladaKW        object \n",
      " 28  NumCoordNEmpreendimento       object \n",
      " 29  NumCoordEEmpreendimento       object \n",
      " 30  NomSubEstacao                 object \n",
      " 31  NumCoordESub                  object \n",
      " 32  NumCoordNSub                  object \n",
      "dtypes: float64(4), int64(3), object(26)\n",
      "memory usage: 513.1+ MB\n"
     ]
    }
   ],
   "source": [
    "df_aneel.info()"
   ]
  },
  {
   "cell_type": "code",
   "execution_count": 5,
   "id": "d3579d33",
   "metadata": {},
   "outputs": [
    {
     "data": {
      "text/plain": [
       "DatGeracaoConjuntoDados               0\n",
       "AnmPeriodoReferencia                  0\n",
       "NumCNPJDistribuidora                138\n",
       "SigAgente                           138\n",
       "NomAgente                           138\n",
       "CodClasseConsumo                      0\n",
       "DscClasseConsumo                      0\n",
       "CodSubGrupoTarifario                  0\n",
       "DscSubGrupoTarifario                  0\n",
       "codUFibge                          4120\n",
       "SigUF                               180\n",
       "codRegiao                          4120\n",
       "NomRegiao                             0\n",
       "CodMunicipioIbge                    180\n",
       "NomMunicipio                        180\n",
       "CodCEP                                2\n",
       "SigTipoConsumidor                     2\n",
       "NumCPFCNPJ                            2\n",
       "NomeTitularEmpreendimento             9\n",
       "CodEmpreendimento                     1\n",
       "DthAtualizaCadastralEmpreend          0\n",
       "SigModalidadeEmpreendimento           0\n",
       "DscModalidadeHabilitado             181\n",
       "QtdUCRecebeCredito                    0\n",
       "SigTipoGeracao                        0\n",
       "DscFonteGeracao                       0\n",
       "DscPorte                              0\n",
       "MdaPotenciaInstaladaKW                0\n",
       "NumCoordNEmpreendimento         1862015\n",
       "NumCoordEEmpreendimento         1862015\n",
       "NomSubEstacao                   2026209\n",
       "NumCoordESub                    2026209\n",
       "NumCoordNSub                    2026209\n",
       "dtype: int64"
      ]
     },
     "execution_count": 5,
     "metadata": {},
     "output_type": "execute_result"
    }
   ],
   "source": [
    "df_aneel.isnull().sum()"
   ]
  },
  {
   "cell_type": "markdown",
   "id": "ca632d1b",
   "metadata": {},
   "source": [
    "### Análise, Limpeza e Tratamento de Dados da ANEEL"
   ]
  },
  {
   "cell_type": "code",
   "execution_count": 6,
   "id": "bf9be302",
   "metadata": {},
   "outputs": [],
   "source": [
    "df_aneel.drop(['DatGeracaoConjuntoDados',\n",
    "         'AnmPeriodoReferencia',\n",
    "         'NumCNPJDistribuidora',\n",
    "         'NomAgente',\n",
    "         'CodClasseConsumo',\n",
    "         'CodSubGrupoTarifario',\n",
    "         'codUFibge',\n",
    "         'codRegiao',\n",
    "         'CodMunicipioIbge',\n",
    "         'CodCEP',\n",
    "         'NumCPFCNPJ',\n",
    "         'NomeTitularEmpreendimento',\n",
    "         'CodEmpreendimento',\n",
    "         'NumCoordNEmpreendimento',\n",
    "         'NumCoordEEmpreendimento',\n",
    "         'NomSubEstacao',\n",
    "         'NumCoordESub',\n",
    "         'NumCoordNSub'],axis=1,inplace=True)"
   ]
  },
  {
   "cell_type": "code",
   "execution_count": 7,
   "id": "2352f734",
   "metadata": {
    "scrolled": true
   },
   "outputs": [
    {
     "data": {
      "text/html": [
       "<div>\n",
       "<style scoped>\n",
       "    .dataframe tbody tr th:only-of-type {\n",
       "        vertical-align: middle;\n",
       "    }\n",
       "\n",
       "    .dataframe tbody tr th {\n",
       "        vertical-align: top;\n",
       "    }\n",
       "\n",
       "    .dataframe thead th {\n",
       "        text-align: right;\n",
       "    }\n",
       "</style>\n",
       "<table border=\"1\" class=\"dataframe\">\n",
       "  <thead>\n",
       "    <tr style=\"text-align: right;\">\n",
       "      <th></th>\n",
       "      <th>SigAgente</th>\n",
       "      <th>DscClasseConsumo</th>\n",
       "      <th>DscSubGrupoTarifario</th>\n",
       "      <th>SigUF</th>\n",
       "      <th>NomRegiao</th>\n",
       "      <th>NomMunicipio</th>\n",
       "      <th>SigTipoConsumidor</th>\n",
       "      <th>DthAtualizaCadastralEmpreend</th>\n",
       "      <th>SigModalidadeEmpreendimento</th>\n",
       "      <th>DscModalidadeHabilitado</th>\n",
       "      <th>QtdUCRecebeCredito</th>\n",
       "      <th>SigTipoGeracao</th>\n",
       "      <th>DscFonteGeracao</th>\n",
       "      <th>DscPorte</th>\n",
       "      <th>MdaPotenciaInstaladaKW</th>\n",
       "    </tr>\n",
       "  </thead>\n",
       "  <tbody>\n",
       "    <tr>\n",
       "      <th>0</th>\n",
       "      <td>CPFL-PAULISTA</td>\n",
       "      <td>Residencial</td>\n",
       "      <td>B1</td>\n",
       "      <td>SP</td>\n",
       "      <td>Sudeste</td>\n",
       "      <td>Nova Granada</td>\n",
       "      <td>PF</td>\n",
       "      <td>2023-01-23</td>\n",
       "      <td>P</td>\n",
       "      <td>Com Microgeracao ou Minigeracao distribuida</td>\n",
       "      <td>1</td>\n",
       "      <td>UFV</td>\n",
       "      <td>Radiação solar</td>\n",
       "      <td>Microgeracao</td>\n",
       "      <td>3,30</td>\n",
       "    </tr>\n",
       "    <tr>\n",
       "      <th>1</th>\n",
       "      <td>ELETROACRE</td>\n",
       "      <td>Comercial</td>\n",
       "      <td>B3</td>\n",
       "      <td>AC</td>\n",
       "      <td>Norte</td>\n",
       "      <td>Rio Branco</td>\n",
       "      <td>PJ</td>\n",
       "      <td>2015-07-15</td>\n",
       "      <td>P</td>\n",
       "      <td>Com Microgeracao ou Minigeracao distribuida</td>\n",
       "      <td>1</td>\n",
       "      <td>UFV</td>\n",
       "      <td>Radiação solar</td>\n",
       "      <td>Microgeracao</td>\n",
       "      <td>32,50</td>\n",
       "    </tr>\n",
       "    <tr>\n",
       "      <th>2</th>\n",
       "      <td>ELETROACRE</td>\n",
       "      <td>Residencial</td>\n",
       "      <td>B1</td>\n",
       "      <td>AC</td>\n",
       "      <td>Norte</td>\n",
       "      <td>Tarauacá</td>\n",
       "      <td>PF</td>\n",
       "      <td>2015-04-20</td>\n",
       "      <td>P</td>\n",
       "      <td>Com Microgeracao ou Minigeracao distribuida</td>\n",
       "      <td>1</td>\n",
       "      <td>UFV</td>\n",
       "      <td>Radiação solar</td>\n",
       "      <td>Microgeracao</td>\n",
       "      <td>4,00</td>\n",
       "    </tr>\n",
       "    <tr>\n",
       "      <th>3</th>\n",
       "      <td>ELETROACRE</td>\n",
       "      <td>Comercial</td>\n",
       "      <td>B3</td>\n",
       "      <td>AC</td>\n",
       "      <td>Norte</td>\n",
       "      <td>Rio Branco</td>\n",
       "      <td>PJ</td>\n",
       "      <td>2015-06-22</td>\n",
       "      <td>P</td>\n",
       "      <td>Com Microgeracao ou Minigeracao distribuida</td>\n",
       "      <td>1</td>\n",
       "      <td>UFV</td>\n",
       "      <td>Radiação solar</td>\n",
       "      <td>Microgeracao</td>\n",
       "      <td>2,00</td>\n",
       "    </tr>\n",
       "    <tr>\n",
       "      <th>4</th>\n",
       "      <td>ELETROACRE</td>\n",
       "      <td>Residencial</td>\n",
       "      <td>B1</td>\n",
       "      <td>AC</td>\n",
       "      <td>Norte</td>\n",
       "      <td>Rio Branco</td>\n",
       "      <td>PF</td>\n",
       "      <td>2016-08-25</td>\n",
       "      <td>P</td>\n",
       "      <td>Com Microgeracao ou Minigeracao distribuida</td>\n",
       "      <td>1</td>\n",
       "      <td>UFV</td>\n",
       "      <td>Radiação solar</td>\n",
       "      <td>Microgeracao</td>\n",
       "      <td>2,00</td>\n",
       "    </tr>\n",
       "  </tbody>\n",
       "</table>\n",
       "</div>"
      ],
      "text/plain": [
       "       SigAgente DscClasseConsumo DscSubGrupoTarifario SigUF NomRegiao  \\\n",
       "0  CPFL-PAULISTA      Residencial                   B1    SP   Sudeste   \n",
       "1     ELETROACRE        Comercial                   B3    AC     Norte   \n",
       "2     ELETROACRE      Residencial                   B1    AC     Norte   \n",
       "3     ELETROACRE        Comercial                   B3    AC     Norte   \n",
       "4     ELETROACRE      Residencial                   B1    AC     Norte   \n",
       "\n",
       "   NomMunicipio SigTipoConsumidor DthAtualizaCadastralEmpreend  \\\n",
       "0  Nova Granada                PF                   2023-01-23   \n",
       "1    Rio Branco                PJ                   2015-07-15   \n",
       "2      Tarauacá                PF                   2015-04-20   \n",
       "3    Rio Branco                PJ                   2015-06-22   \n",
       "4    Rio Branco                PF                   2016-08-25   \n",
       "\n",
       "  SigModalidadeEmpreendimento                      DscModalidadeHabilitado  \\\n",
       "0                           P  Com Microgeracao ou Minigeracao distribuida   \n",
       "1                           P  Com Microgeracao ou Minigeracao distribuida   \n",
       "2                           P  Com Microgeracao ou Minigeracao distribuida   \n",
       "3                           P  Com Microgeracao ou Minigeracao distribuida   \n",
       "4                           P  Com Microgeracao ou Minigeracao distribuida   \n",
       "\n",
       "   QtdUCRecebeCredito SigTipoGeracao DscFonteGeracao      DscPorte  \\\n",
       "0                   1            UFV  Radiação solar  Microgeracao   \n",
       "1                   1            UFV  Radiação solar  Microgeracao   \n",
       "2                   1            UFV  Radiação solar  Microgeracao   \n",
       "3                   1            UFV  Radiação solar  Microgeracao   \n",
       "4                   1            UFV  Radiação solar  Microgeracao   \n",
       "\n",
       "  MdaPotenciaInstaladaKW  \n",
       "0                   3,30  \n",
       "1                  32,50  \n",
       "2                   4,00  \n",
       "3                   2,00  \n",
       "4                   2,00  "
      ]
     },
     "execution_count": 7,
     "metadata": {},
     "output_type": "execute_result"
    }
   ],
   "source": [
    "df_aneel.head()"
   ]
  },
  {
   "cell_type": "code",
   "execution_count": 8,
   "id": "9d3c9ee5",
   "metadata": {
    "scrolled": true
   },
   "outputs": [
    {
     "name": "stdout",
     "output_type": "stream",
     "text": [
      "<class 'pandas.core.frame.DataFrame'>\n",
      "RangeIndex: 2038041 entries, 0 to 2038040\n",
      "Data columns (total 15 columns):\n",
      " #   Column                        Dtype \n",
      "---  ------                        ----- \n",
      " 0   SigAgente                     object\n",
      " 1   DscClasseConsumo              object\n",
      " 2   DscSubGrupoTarifario          object\n",
      " 3   SigUF                         object\n",
      " 4   NomRegiao                     object\n",
      " 5   NomMunicipio                  object\n",
      " 6   SigTipoConsumidor             object\n",
      " 7   DthAtualizaCadastralEmpreend  object\n",
      " 8   SigModalidadeEmpreendimento   object\n",
      " 9   DscModalidadeHabilitado       object\n",
      " 10  QtdUCRecebeCredito            int64 \n",
      " 11  SigTipoGeracao                object\n",
      " 12  DscFonteGeracao               object\n",
      " 13  DscPorte                      object\n",
      " 14  MdaPotenciaInstaladaKW        object\n",
      "dtypes: int64(1), object(14)\n",
      "memory usage: 233.2+ MB\n"
     ]
    }
   ],
   "source": [
    "df_aneel.info()"
   ]
  },
  {
   "cell_type": "code",
   "execution_count": 9,
   "id": "b2f83756",
   "metadata": {},
   "outputs": [
    {
     "data": {
      "text/plain": [
       "SigAgente                       138\n",
       "DscClasseConsumo                  0\n",
       "DscSubGrupoTarifario              0\n",
       "SigUF                           180\n",
       "NomRegiao                         0\n",
       "NomMunicipio                    180\n",
       "SigTipoConsumidor                 2\n",
       "DthAtualizaCadastralEmpreend      0\n",
       "SigModalidadeEmpreendimento       0\n",
       "DscModalidadeHabilitado         181\n",
       "QtdUCRecebeCredito                0\n",
       "SigTipoGeracao                    0\n",
       "DscFonteGeracao                   0\n",
       "DscPorte                          0\n",
       "MdaPotenciaInstaladaKW            0\n",
       "dtype: int64"
      ]
     },
     "execution_count": 9,
     "metadata": {},
     "output_type": "execute_result"
    }
   ],
   "source": [
    "df_aneel.isnull().sum()"
   ]
  },
  {
   "cell_type": "code",
   "execution_count": 10,
   "id": "0d96cc31",
   "metadata": {},
   "outputs": [],
   "source": [
    "df_aneel = df_aneel.dropna(subset=None)"
   ]
  },
  {
   "cell_type": "code",
   "execution_count": 11,
   "id": "f0836cfb",
   "metadata": {
    "scrolled": false
   },
   "outputs": [
    {
     "data": {
      "text/plain": [
       "SigAgente                       0\n",
       "DscClasseConsumo                0\n",
       "DscSubGrupoTarifario            0\n",
       "SigUF                           0\n",
       "NomRegiao                       0\n",
       "NomMunicipio                    0\n",
       "SigTipoConsumidor               0\n",
       "DthAtualizaCadastralEmpreend    0\n",
       "SigModalidadeEmpreendimento     0\n",
       "DscModalidadeHabilitado         0\n",
       "QtdUCRecebeCredito              0\n",
       "SigTipoGeracao                  0\n",
       "DscFonteGeracao                 0\n",
       "DscPorte                        0\n",
       "MdaPotenciaInstaladaKW          0\n",
       "dtype: int64"
      ]
     },
     "execution_count": 11,
     "metadata": {},
     "output_type": "execute_result"
    }
   ],
   "source": [
    "df_aneel.isnull().sum()"
   ]
  },
  {
   "cell_type": "code",
   "execution_count": 12,
   "id": "a6696dfc",
   "metadata": {},
   "outputs": [
    {
     "data": {
      "text/plain": [
       "CEMIG-D                230087\n",
       "RGE SUL                201768\n",
       "COPEL-DIS              171620\n",
       "CPFL-PAULISTA          144606\n",
       "COELBA                 109188\n",
       "                        ...  \n",
       "CPFL Leste Paulista        16\n",
       "CODESAM                    10\n",
       "CPFL Mococa                 9\n",
       "CPFL Sul Paulista           8\n",
       "CERAL ARAPOTI               4\n",
       "Name: SigAgente, Length: 109, dtype: int64"
      ]
     },
     "execution_count": 12,
     "metadata": {},
     "output_type": "execute_result"
    }
   ],
   "source": [
    "contagem = df_aneel['SigAgente'].value_counts()\n",
    "contagem"
   ]
  },
  {
   "cell_type": "code",
   "execution_count": 13,
   "id": "7dfcb944",
   "metadata": {},
   "outputs": [
    {
     "name": "stderr",
     "output_type": "stream",
     "text": [
      "C:\\Users\\Carlos\\AppData\\Local\\Temp\\ipykernel_18048\\27707375.py:4: SettingWithCopyWarning: \n",
      "A value is trying to be set on a copy of a slice from a DataFrame.\n",
      "Try using .loc[row_indexer,col_indexer] = value instead\n",
      "\n",
      "See the caveats in the documentation: https://pandas.pydata.org/pandas-docs/stable/user_guide/indexing.html#returning-a-view-versus-a-copy\n",
      "  df_aneel['SigAgente'] = df_aneel['SigAgente'].apply(lambda x: remover_acentos(x))\n"
     ]
    }
   ],
   "source": [
    "def remover_acentos(texto):\n",
    "    return unidecode(texto)\n",
    "\n",
    "df_aneel['SigAgente'] = df_aneel['SigAgente'].apply(lambda x: remover_acentos(x))"
   ]
  },
  {
   "cell_type": "code",
   "execution_count": 14,
   "id": "4289b8e0",
   "metadata": {
    "scrolled": true
   },
   "outputs": [
    {
     "data": {
      "text/plain": [
       "Residencial           1599832\n",
       "Comercial              220403\n",
       "Rural                  177880\n",
       "Industrial              33564\n",
       "Poder Público            5493\n",
       "Serviço Público           259\n",
       "Iluminação pública        109\n",
       "Name: DscClasseConsumo, dtype: int64"
      ]
     },
     "execution_count": 14,
     "metadata": {},
     "output_type": "execute_result"
    }
   ],
   "source": [
    "contagem = df_aneel['DscClasseConsumo'].value_counts()\n",
    "contagem"
   ]
  },
  {
   "cell_type": "code",
   "execution_count": 15,
   "id": "c1e1c742",
   "metadata": {},
   "outputs": [
    {
     "name": "stderr",
     "output_type": "stream",
     "text": [
      "C:\\Users\\Carlos\\AppData\\Local\\Temp\\ipykernel_18048\\357222649.py:4: SettingWithCopyWarning: \n",
      "A value is trying to be set on a copy of a slice from a DataFrame.\n",
      "Try using .loc[row_indexer,col_indexer] = value instead\n",
      "\n",
      "See the caveats in the documentation: https://pandas.pydata.org/pandas-docs/stable/user_guide/indexing.html#returning-a-view-versus-a-copy\n",
      "  df_aneel['DscClasseConsumo'] = df_aneel['DscClasseConsumo'].apply(lambda x: remover_acentos(x))\n"
     ]
    }
   ],
   "source": [
    "def remover_acentos(texto):\n",
    "    return unidecode(texto)\n",
    "\n",
    "df_aneel['DscClasseConsumo'] = df_aneel['DscClasseConsumo'].apply(lambda x: remover_acentos(x))"
   ]
  },
  {
   "cell_type": "code",
   "execution_count": 16,
   "id": "7a19b15c",
   "metadata": {},
   "outputs": [
    {
     "data": {
      "text/plain": [
       "B1     1586875\n",
       "B3      241252\n",
       "B2      179978\n",
       "A4       23277\n",
       "A3a       2003\n",
       "AS        1585\n",
       "A1        1166\n",
       "A3         785\n",
       "B4         463\n",
       "A2         156\n",
       "Name: DscSubGrupoTarifario, dtype: int64"
      ]
     },
     "execution_count": 16,
     "metadata": {},
     "output_type": "execute_result"
    }
   ],
   "source": [
    "contagem = df_aneel['DscSubGrupoTarifario'].value_counts()\n",
    "contagem"
   ]
  },
  {
   "cell_type": "code",
   "execution_count": 17,
   "id": "813fc912",
   "metadata": {},
   "outputs": [
    {
     "data": {
      "text/plain": [
       "SP    329339\n",
       "RS    256875\n",
       "MG    250651\n",
       "PR    174836\n",
       "BA    109220\n",
       "RJ     97784\n",
       "MT     91063\n",
       "GO     87812\n",
       "SC     80932\n",
       "MS     76228\n",
       "CE     63682\n",
       "PE     62722\n",
       "PA     57501\n",
       "RN     47091\n",
       "ES     39502\n",
       "PI     38139\n",
       "MA     37959\n",
       "TO     29003\n",
       "PB     24881\n",
       "AL     20644\n",
       "RO     17669\n",
       "DF     16564\n",
       "SE     10633\n",
       "AM      7318\n",
       "AC      4811\n",
       "AP      2709\n",
       "RR      1972\n",
       "Name: SigUF, dtype: int64"
      ]
     },
     "execution_count": 17,
     "metadata": {},
     "output_type": "execute_result"
    }
   ],
   "source": [
    "contagem = df_aneel['SigUF'].value_counts()\n",
    "contagem"
   ]
  },
  {
   "cell_type": "code",
   "execution_count": 18,
   "id": "b8425c46",
   "metadata": {},
   "outputs": [
    {
     "data": {
      "text/plain": [
       "Sudeste         717276\n",
       "Sul             512643\n",
       "Nordeste        414971\n",
       "Centro Oeste    271667\n",
       "Norte           120983\n",
       "Name: NomRegiao, dtype: int64"
      ]
     },
     "execution_count": 18,
     "metadata": {},
     "output_type": "execute_result"
    }
   ],
   "source": [
    "contagem = df_aneel['NomRegiao'].value_counts()\n",
    "contagem"
   ]
  },
  {
   "cell_type": "code",
   "execution_count": 19,
   "id": "2dc74d8f",
   "metadata": {},
   "outputs": [
    {
     "data": {
      "text/plain": [
       "Florianópolis     37557\n",
       "Campo Grande      22989\n",
       "Rio de Janeiro    19698\n",
       "Cuiabá            18659\n",
       "Teresina          18354\n",
       "                  ...  \n",
       "Fonte Boa             1\n",
       "Tapauá                1\n",
       "Silves                1\n",
       "Caapiranga            1\n",
       "Itaubal               1\n",
       "Name: NomMunicipio, Length: 5260, dtype: int64"
      ]
     },
     "execution_count": 19,
     "metadata": {},
     "output_type": "execute_result"
    }
   ],
   "source": [
    "contagem = df_aneel['NomMunicipio'].value_counts()\n",
    "contagem"
   ]
  },
  {
   "cell_type": "code",
   "execution_count": 20,
   "id": "4443899c",
   "metadata": {},
   "outputs": [
    {
     "name": "stderr",
     "output_type": "stream",
     "text": [
      "C:\\Users\\Carlos\\AppData\\Local\\Temp\\ipykernel_18048\\2864776957.py:4: SettingWithCopyWarning: \n",
      "A value is trying to be set on a copy of a slice from a DataFrame.\n",
      "Try using .loc[row_indexer,col_indexer] = value instead\n",
      "\n",
      "See the caveats in the documentation: https://pandas.pydata.org/pandas-docs/stable/user_guide/indexing.html#returning-a-view-versus-a-copy\n",
      "  df_aneel['NomMunicipio'] = df_aneel['NomMunicipio'].apply(lambda x: remover_acentos(x))\n"
     ]
    }
   ],
   "source": [
    "def remover_acentos(texto):\n",
    "    return unidecode(texto)\n",
    "\n",
    "df_aneel['NomMunicipio'] = df_aneel['NomMunicipio'].apply(lambda x: remover_acentos(x))"
   ]
  },
  {
   "cell_type": "code",
   "execution_count": 21,
   "id": "ea729813",
   "metadata": {},
   "outputs": [
    {
     "name": "stderr",
     "output_type": "stream",
     "text": [
      "C:\\Users\\Carlos\\AppData\\Local\\Temp\\ipykernel_18048\\1681013807.py:1: SettingWithCopyWarning: \n",
      "A value is trying to be set on a copy of a slice from a DataFrame.\n",
      "Try using .loc[row_indexer,col_indexer] = value instead\n",
      "\n",
      "See the caveats in the documentation: https://pandas.pydata.org/pandas-docs/stable/user_guide/indexing.html#returning-a-view-versus-a-copy\n",
      "  df_aneel['NomMunicipio'] = df_aneel['NomMunicipio'].str.replace(r\"D'\", \"d'\")\n"
     ]
    }
   ],
   "source": [
    "df_aneel['NomMunicipio'] = df_aneel['NomMunicipio'].str.replace(r\"D'\", \"d'\")"
   ]
  },
  {
   "cell_type": "code",
   "execution_count": 22,
   "id": "c89fd945",
   "metadata": {},
   "outputs": [],
   "source": [
    "def formatar_municipio(row):\n",
    "    return f\"{row['NomMunicipio']} ({row['SigUF']})\""
   ]
  },
  {
   "cell_type": "code",
   "execution_count": 23,
   "id": "5309f2b3",
   "metadata": {},
   "outputs": [
    {
     "name": "stderr",
     "output_type": "stream",
     "text": [
      "C:\\Users\\Carlos\\AppData\\Local\\Temp\\ipykernel_18048\\1136886589.py:1: SettingWithCopyWarning: \n",
      "A value is trying to be set on a copy of a slice from a DataFrame.\n",
      "Try using .loc[row_indexer,col_indexer] = value instead\n",
      "\n",
      "See the caveats in the documentation: https://pandas.pydata.org/pandas-docs/stable/user_guide/indexing.html#returning-a-view-versus-a-copy\n",
      "  df_aneel['municipiouf'] = df_aneel.apply(formatar_municipio, axis=1)\n"
     ]
    }
   ],
   "source": [
    "df_aneel['municipiouf'] = df_aneel.apply(formatar_municipio, axis=1)"
   ]
  },
  {
   "cell_type": "code",
   "execution_count": 24,
   "id": "86b403c3",
   "metadata": {},
   "outputs": [
    {
     "data": {
      "text/plain": [
       "Florianopolis (SC)     37557\n",
       "Campo Grande (MS)      22922\n",
       "Rio de Janeiro (RJ)    19698\n",
       "Cuiaba (MT)            18659\n",
       "Teresina (PI)          18354\n",
       "                       ...  \n",
       "Luis Domingues (MA)        1\n",
       "Fonte Boa (AM)             1\n",
       "Uarini (AM)                1\n",
       "Beruri (AM)                1\n",
       "Arapei (SP)                1\n",
       "Name: municipiouf, Length: 5532, dtype: int64"
      ]
     },
     "execution_count": 24,
     "metadata": {},
     "output_type": "execute_result"
    }
   ],
   "source": [
    "contagem = df_aneel['municipiouf'].value_counts()\n",
    "contagem"
   ]
  },
  {
   "cell_type": "code",
   "execution_count": 25,
   "id": "48cefa4f",
   "metadata": {
    "scrolled": true
   },
   "outputs": [
    {
     "data": {
      "text/html": [
       "<div>\n",
       "<style scoped>\n",
       "    .dataframe tbody tr th:only-of-type {\n",
       "        vertical-align: middle;\n",
       "    }\n",
       "\n",
       "    .dataframe tbody tr th {\n",
       "        vertical-align: top;\n",
       "    }\n",
       "\n",
       "    .dataframe thead th {\n",
       "        text-align: right;\n",
       "    }\n",
       "</style>\n",
       "<table border=\"1\" class=\"dataframe\">\n",
       "  <thead>\n",
       "    <tr style=\"text-align: right;\">\n",
       "      <th></th>\n",
       "      <th>SigAgente</th>\n",
       "      <th>DscClasseConsumo</th>\n",
       "      <th>DscSubGrupoTarifario</th>\n",
       "      <th>SigUF</th>\n",
       "      <th>NomRegiao</th>\n",
       "      <th>NomMunicipio</th>\n",
       "      <th>SigTipoConsumidor</th>\n",
       "      <th>DthAtualizaCadastralEmpreend</th>\n",
       "      <th>SigModalidadeEmpreendimento</th>\n",
       "      <th>DscModalidadeHabilitado</th>\n",
       "      <th>QtdUCRecebeCredito</th>\n",
       "      <th>SigTipoGeracao</th>\n",
       "      <th>DscFonteGeracao</th>\n",
       "      <th>DscPorte</th>\n",
       "      <th>MdaPotenciaInstaladaKW</th>\n",
       "      <th>municipiouf</th>\n",
       "    </tr>\n",
       "  </thead>\n",
       "  <tbody>\n",
       "    <tr>\n",
       "      <th>0</th>\n",
       "      <td>CPFL-PAULISTA</td>\n",
       "      <td>Residencial</td>\n",
       "      <td>B1</td>\n",
       "      <td>SP</td>\n",
       "      <td>Sudeste</td>\n",
       "      <td>Nova Granada</td>\n",
       "      <td>PF</td>\n",
       "      <td>2023-01-23</td>\n",
       "      <td>P</td>\n",
       "      <td>Com Microgeracao ou Minigeracao distribuida</td>\n",
       "      <td>1</td>\n",
       "      <td>UFV</td>\n",
       "      <td>Radiação solar</td>\n",
       "      <td>Microgeracao</td>\n",
       "      <td>3,30</td>\n",
       "      <td>Nova Granada (SP)</td>\n",
       "    </tr>\n",
       "    <tr>\n",
       "      <th>1</th>\n",
       "      <td>ELETROACRE</td>\n",
       "      <td>Comercial</td>\n",
       "      <td>B3</td>\n",
       "      <td>AC</td>\n",
       "      <td>Norte</td>\n",
       "      <td>Rio Branco</td>\n",
       "      <td>PJ</td>\n",
       "      <td>2015-07-15</td>\n",
       "      <td>P</td>\n",
       "      <td>Com Microgeracao ou Minigeracao distribuida</td>\n",
       "      <td>1</td>\n",
       "      <td>UFV</td>\n",
       "      <td>Radiação solar</td>\n",
       "      <td>Microgeracao</td>\n",
       "      <td>32,50</td>\n",
       "      <td>Rio Branco (AC)</td>\n",
       "    </tr>\n",
       "    <tr>\n",
       "      <th>2</th>\n",
       "      <td>ELETROACRE</td>\n",
       "      <td>Residencial</td>\n",
       "      <td>B1</td>\n",
       "      <td>AC</td>\n",
       "      <td>Norte</td>\n",
       "      <td>Tarauaca</td>\n",
       "      <td>PF</td>\n",
       "      <td>2015-04-20</td>\n",
       "      <td>P</td>\n",
       "      <td>Com Microgeracao ou Minigeracao distribuida</td>\n",
       "      <td>1</td>\n",
       "      <td>UFV</td>\n",
       "      <td>Radiação solar</td>\n",
       "      <td>Microgeracao</td>\n",
       "      <td>4,00</td>\n",
       "      <td>Tarauaca (AC)</td>\n",
       "    </tr>\n",
       "    <tr>\n",
       "      <th>3</th>\n",
       "      <td>ELETROACRE</td>\n",
       "      <td>Comercial</td>\n",
       "      <td>B3</td>\n",
       "      <td>AC</td>\n",
       "      <td>Norte</td>\n",
       "      <td>Rio Branco</td>\n",
       "      <td>PJ</td>\n",
       "      <td>2015-06-22</td>\n",
       "      <td>P</td>\n",
       "      <td>Com Microgeracao ou Minigeracao distribuida</td>\n",
       "      <td>1</td>\n",
       "      <td>UFV</td>\n",
       "      <td>Radiação solar</td>\n",
       "      <td>Microgeracao</td>\n",
       "      <td>2,00</td>\n",
       "      <td>Rio Branco (AC)</td>\n",
       "    </tr>\n",
       "    <tr>\n",
       "      <th>4</th>\n",
       "      <td>ELETROACRE</td>\n",
       "      <td>Residencial</td>\n",
       "      <td>B1</td>\n",
       "      <td>AC</td>\n",
       "      <td>Norte</td>\n",
       "      <td>Rio Branco</td>\n",
       "      <td>PF</td>\n",
       "      <td>2016-08-25</td>\n",
       "      <td>P</td>\n",
       "      <td>Com Microgeracao ou Minigeracao distribuida</td>\n",
       "      <td>1</td>\n",
       "      <td>UFV</td>\n",
       "      <td>Radiação solar</td>\n",
       "      <td>Microgeracao</td>\n",
       "      <td>2,00</td>\n",
       "      <td>Rio Branco (AC)</td>\n",
       "    </tr>\n",
       "  </tbody>\n",
       "</table>\n",
       "</div>"
      ],
      "text/plain": [
       "       SigAgente DscClasseConsumo DscSubGrupoTarifario SigUF NomRegiao  \\\n",
       "0  CPFL-PAULISTA      Residencial                   B1    SP   Sudeste   \n",
       "1     ELETROACRE        Comercial                   B3    AC     Norte   \n",
       "2     ELETROACRE      Residencial                   B1    AC     Norte   \n",
       "3     ELETROACRE        Comercial                   B3    AC     Norte   \n",
       "4     ELETROACRE      Residencial                   B1    AC     Norte   \n",
       "\n",
       "   NomMunicipio SigTipoConsumidor DthAtualizaCadastralEmpreend  \\\n",
       "0  Nova Granada                PF                   2023-01-23   \n",
       "1    Rio Branco                PJ                   2015-07-15   \n",
       "2      Tarauaca                PF                   2015-04-20   \n",
       "3    Rio Branco                PJ                   2015-06-22   \n",
       "4    Rio Branco                PF                   2016-08-25   \n",
       "\n",
       "  SigModalidadeEmpreendimento                      DscModalidadeHabilitado  \\\n",
       "0                           P  Com Microgeracao ou Minigeracao distribuida   \n",
       "1                           P  Com Microgeracao ou Minigeracao distribuida   \n",
       "2                           P  Com Microgeracao ou Minigeracao distribuida   \n",
       "3                           P  Com Microgeracao ou Minigeracao distribuida   \n",
       "4                           P  Com Microgeracao ou Minigeracao distribuida   \n",
       "\n",
       "   QtdUCRecebeCredito SigTipoGeracao DscFonteGeracao      DscPorte  \\\n",
       "0                   1            UFV  Radiação solar  Microgeracao   \n",
       "1                   1            UFV  Radiação solar  Microgeracao   \n",
       "2                   1            UFV  Radiação solar  Microgeracao   \n",
       "3                   1            UFV  Radiação solar  Microgeracao   \n",
       "4                   1            UFV  Radiação solar  Microgeracao   \n",
       "\n",
       "  MdaPotenciaInstaladaKW        municipiouf  \n",
       "0                   3,30  Nova Granada (SP)  \n",
       "1                  32,50    Rio Branco (AC)  \n",
       "2                   4,00      Tarauaca (AC)  \n",
       "3                   2,00    Rio Branco (AC)  \n",
       "4                   2,00    Rio Branco (AC)  "
      ]
     },
     "execution_count": 25,
     "metadata": {},
     "output_type": "execute_result"
    }
   ],
   "source": [
    "df_aneel.head()"
   ]
  },
  {
   "cell_type": "code",
   "execution_count": 26,
   "id": "84c87c8a",
   "metadata": {},
   "outputs": [
    {
     "data": {
      "text/plain": [
       "5252"
      ]
     },
     "execution_count": 26,
     "metadata": {},
     "output_type": "execute_result"
    }
   ],
   "source": [
    "num_valores_diferentes = df_aneel['NomMunicipio'].nunique()\n",
    "num_valores_diferentes"
   ]
  },
  {
   "cell_type": "code",
   "execution_count": 27,
   "id": "6bd89c0c",
   "metadata": {},
   "outputs": [
    {
     "data": {
      "text/plain": [
       "5532"
      ]
     },
     "execution_count": 27,
     "metadata": {},
     "output_type": "execute_result"
    }
   ],
   "source": [
    "num_valores_diferentes = df_aneel['municipiouf'].nunique()\n",
    "num_valores_diferentes"
   ]
  },
  {
   "cell_type": "code",
   "execution_count": 28,
   "id": "a1160e57",
   "metadata": {},
   "outputs": [],
   "source": [
    "df_aneel = df_aneel.drop(['NomMunicipio','SigUF','NomRegiao'], axis=1)"
   ]
  },
  {
   "cell_type": "code",
   "execution_count": 29,
   "id": "edff3f4c",
   "metadata": {},
   "outputs": [],
   "source": [
    "df_aneel = df_aneel[['SigAgente',\n",
    "         'DscClasseConsumo',\n",
    "         'DscSubGrupoTarifario',\n",
    "         'municipiouf',\n",
    "         'SigTipoConsumidor',\n",
    "         'DthAtualizaCadastralEmpreend',\n",
    "         'SigModalidadeEmpreendimento',\n",
    "         'DscModalidadeHabilitado',\n",
    "         'QtdUCRecebeCredito',\n",
    "         'SigTipoGeracao',\n",
    "         'DscFonteGeracao',\n",
    "         'DscPorte',\n",
    "         'MdaPotenciaInstaladaKW']]"
   ]
  },
  {
   "cell_type": "code",
   "execution_count": 30,
   "id": "860e8dbc",
   "metadata": {},
   "outputs": [
    {
     "data": {
      "text/html": [
       "<div>\n",
       "<style scoped>\n",
       "    .dataframe tbody tr th:only-of-type {\n",
       "        vertical-align: middle;\n",
       "    }\n",
       "\n",
       "    .dataframe tbody tr th {\n",
       "        vertical-align: top;\n",
       "    }\n",
       "\n",
       "    .dataframe thead th {\n",
       "        text-align: right;\n",
       "    }\n",
       "</style>\n",
       "<table border=\"1\" class=\"dataframe\">\n",
       "  <thead>\n",
       "    <tr style=\"text-align: right;\">\n",
       "      <th></th>\n",
       "      <th>SigAgente</th>\n",
       "      <th>DscClasseConsumo</th>\n",
       "      <th>DscSubGrupoTarifario</th>\n",
       "      <th>municipiouf</th>\n",
       "      <th>SigTipoConsumidor</th>\n",
       "      <th>DthAtualizaCadastralEmpreend</th>\n",
       "      <th>SigModalidadeEmpreendimento</th>\n",
       "      <th>DscModalidadeHabilitado</th>\n",
       "      <th>QtdUCRecebeCredito</th>\n",
       "      <th>SigTipoGeracao</th>\n",
       "      <th>DscFonteGeracao</th>\n",
       "      <th>DscPorte</th>\n",
       "      <th>MdaPotenciaInstaladaKW</th>\n",
       "    </tr>\n",
       "  </thead>\n",
       "  <tbody>\n",
       "    <tr>\n",
       "      <th>0</th>\n",
       "      <td>CPFL-PAULISTA</td>\n",
       "      <td>Residencial</td>\n",
       "      <td>B1</td>\n",
       "      <td>Nova Granada (SP)</td>\n",
       "      <td>PF</td>\n",
       "      <td>2023-01-23</td>\n",
       "      <td>P</td>\n",
       "      <td>Com Microgeracao ou Minigeracao distribuida</td>\n",
       "      <td>1</td>\n",
       "      <td>UFV</td>\n",
       "      <td>Radiação solar</td>\n",
       "      <td>Microgeracao</td>\n",
       "      <td>3,30</td>\n",
       "    </tr>\n",
       "    <tr>\n",
       "      <th>1</th>\n",
       "      <td>ELETROACRE</td>\n",
       "      <td>Comercial</td>\n",
       "      <td>B3</td>\n",
       "      <td>Rio Branco (AC)</td>\n",
       "      <td>PJ</td>\n",
       "      <td>2015-07-15</td>\n",
       "      <td>P</td>\n",
       "      <td>Com Microgeracao ou Minigeracao distribuida</td>\n",
       "      <td>1</td>\n",
       "      <td>UFV</td>\n",
       "      <td>Radiação solar</td>\n",
       "      <td>Microgeracao</td>\n",
       "      <td>32,50</td>\n",
       "    </tr>\n",
       "    <tr>\n",
       "      <th>2</th>\n",
       "      <td>ELETROACRE</td>\n",
       "      <td>Residencial</td>\n",
       "      <td>B1</td>\n",
       "      <td>Tarauaca (AC)</td>\n",
       "      <td>PF</td>\n",
       "      <td>2015-04-20</td>\n",
       "      <td>P</td>\n",
       "      <td>Com Microgeracao ou Minigeracao distribuida</td>\n",
       "      <td>1</td>\n",
       "      <td>UFV</td>\n",
       "      <td>Radiação solar</td>\n",
       "      <td>Microgeracao</td>\n",
       "      <td>4,00</td>\n",
       "    </tr>\n",
       "    <tr>\n",
       "      <th>3</th>\n",
       "      <td>ELETROACRE</td>\n",
       "      <td>Comercial</td>\n",
       "      <td>B3</td>\n",
       "      <td>Rio Branco (AC)</td>\n",
       "      <td>PJ</td>\n",
       "      <td>2015-06-22</td>\n",
       "      <td>P</td>\n",
       "      <td>Com Microgeracao ou Minigeracao distribuida</td>\n",
       "      <td>1</td>\n",
       "      <td>UFV</td>\n",
       "      <td>Radiação solar</td>\n",
       "      <td>Microgeracao</td>\n",
       "      <td>2,00</td>\n",
       "    </tr>\n",
       "    <tr>\n",
       "      <th>4</th>\n",
       "      <td>ELETROACRE</td>\n",
       "      <td>Residencial</td>\n",
       "      <td>B1</td>\n",
       "      <td>Rio Branco (AC)</td>\n",
       "      <td>PF</td>\n",
       "      <td>2016-08-25</td>\n",
       "      <td>P</td>\n",
       "      <td>Com Microgeracao ou Minigeracao distribuida</td>\n",
       "      <td>1</td>\n",
       "      <td>UFV</td>\n",
       "      <td>Radiação solar</td>\n",
       "      <td>Microgeracao</td>\n",
       "      <td>2,00</td>\n",
       "    </tr>\n",
       "  </tbody>\n",
       "</table>\n",
       "</div>"
      ],
      "text/plain": [
       "       SigAgente DscClasseConsumo DscSubGrupoTarifario        municipiouf  \\\n",
       "0  CPFL-PAULISTA      Residencial                   B1  Nova Granada (SP)   \n",
       "1     ELETROACRE        Comercial                   B3    Rio Branco (AC)   \n",
       "2     ELETROACRE      Residencial                   B1      Tarauaca (AC)   \n",
       "3     ELETROACRE        Comercial                   B3    Rio Branco (AC)   \n",
       "4     ELETROACRE      Residencial                   B1    Rio Branco (AC)   \n",
       "\n",
       "  SigTipoConsumidor DthAtualizaCadastralEmpreend SigModalidadeEmpreendimento  \\\n",
       "0                PF                   2023-01-23                           P   \n",
       "1                PJ                   2015-07-15                           P   \n",
       "2                PF                   2015-04-20                           P   \n",
       "3                PJ                   2015-06-22                           P   \n",
       "4                PF                   2016-08-25                           P   \n",
       "\n",
       "                       DscModalidadeHabilitado  QtdUCRecebeCredito  \\\n",
       "0  Com Microgeracao ou Minigeracao distribuida                   1   \n",
       "1  Com Microgeracao ou Minigeracao distribuida                   1   \n",
       "2  Com Microgeracao ou Minigeracao distribuida                   1   \n",
       "3  Com Microgeracao ou Minigeracao distribuida                   1   \n",
       "4  Com Microgeracao ou Minigeracao distribuida                   1   \n",
       "\n",
       "  SigTipoGeracao DscFonteGeracao      DscPorte MdaPotenciaInstaladaKW  \n",
       "0            UFV  Radiação solar  Microgeracao                   3,30  \n",
       "1            UFV  Radiação solar  Microgeracao                  32,50  \n",
       "2            UFV  Radiação solar  Microgeracao                   4,00  \n",
       "3            UFV  Radiação solar  Microgeracao                   2,00  \n",
       "4            UFV  Radiação solar  Microgeracao                   2,00  "
      ]
     },
     "execution_count": 30,
     "metadata": {},
     "output_type": "execute_result"
    }
   ],
   "source": [
    "df_aneel.head()"
   ]
  },
  {
   "cell_type": "code",
   "execution_count": 31,
   "id": "e4375701",
   "metadata": {},
   "outputs": [
    {
     "data": {
      "text/plain": [
       "PF    1832785\n",
       "PJ     204755\n",
       "Name: SigTipoConsumidor, dtype: int64"
      ]
     },
     "execution_count": 31,
     "metadata": {},
     "output_type": "execute_result"
    }
   ],
   "source": [
    "contagem = df_aneel['SigTipoConsumidor'].value_counts()\n",
    "contagem"
   ]
  },
  {
   "cell_type": "code",
   "execution_count": 32,
   "id": "331147e8",
   "metadata": {},
   "outputs": [
    {
     "data": {
      "text/plain": [
       "P    1676036\n",
       "R     354758\n",
       "C       6431\n",
       "M        315\n",
       "Name: SigModalidadeEmpreendimento, dtype: int64"
      ]
     },
     "execution_count": 32,
     "metadata": {},
     "output_type": "execute_result"
    }
   ],
   "source": [
    "contagem = df_aneel['SigModalidadeEmpreendimento'].value_counts()\n",
    "contagem"
   ]
  },
  {
   "cell_type": "code",
   "execution_count": 33,
   "id": "78a0053d",
   "metadata": {
    "scrolled": true
   },
   "outputs": [
    {
     "data": {
      "text/plain": [
       "Com Microgeracao ou Minigeracao distribuida     1676036\n",
       "Caracterizada como Autoconsumo remoto            354758\n",
       "Caracterizada como Geracao compartilhada           6431\n",
       "Integrante de empreendimento de Multiplas UC        315\n",
       "Name: DscModalidadeHabilitado, dtype: int64"
      ]
     },
     "execution_count": 33,
     "metadata": {},
     "output_type": "execute_result"
    }
   ],
   "source": [
    "contagem = df_aneel['DscModalidadeHabilitado'].value_counts()\n",
    "contagem"
   ]
  },
  {
   "cell_type": "code",
   "execution_count": 34,
   "id": "e390e58c",
   "metadata": {},
   "outputs": [
    {
     "data": {
      "text/plain": [
       "UFV    2036843\n",
       "UTE        522\n",
       "EOL         96\n",
       "CGH         79\n",
       "Name: SigTipoGeracao, dtype: int64"
      ]
     },
     "execution_count": 34,
     "metadata": {},
     "output_type": "execute_result"
    }
   ],
   "source": [
    "contagem = df_aneel['SigTipoGeracao'].value_counts()\n",
    "contagem"
   ]
  },
  {
   "cell_type": "code",
   "execution_count": 35,
   "id": "30bfaff6",
   "metadata": {},
   "outputs": [
    {
     "data": {
      "text/plain": [
       "Radiação solar                   2036843\n",
       "Biogás - RA                          336\n",
       "Cinética do vento                     96\n",
       "Biogás - RU                           82\n",
       "Potencial hidráulico                  79\n",
       "Biogás-AGR                            35\n",
       "Bagaço de Cana de Açúcar              16\n",
       "Biogás - Floresta                     16\n",
       "Gás Natural                           12\n",
       "Gás de Alto Forno - Biomassa           7\n",
       "Resíduos Florestais                    7\n",
       "Resíduos Sólidos Urbanos - RU          5\n",
       "Casca de Arroz                         5\n",
       "Lenha                                  1\n",
       "Name: DscFonteGeracao, dtype: int64"
      ]
     },
     "execution_count": 35,
     "metadata": {},
     "output_type": "execute_result"
    }
   ],
   "source": [
    "contagem = df_aneel['DscFonteGeracao'].value_counts()\n",
    "contagem"
   ]
  },
  {
   "cell_type": "code",
   "execution_count": 36,
   "id": "bdeef9bc",
   "metadata": {},
   "outputs": [],
   "source": [
    "def remover_acentos(texto):\n",
    "    return unidecode(texto)\n",
    "\n",
    "df_aneel['DscFonteGeracao'] = df_aneel['DscFonteGeracao'].apply(lambda x: remover_acentos(x))"
   ]
  },
  {
   "cell_type": "code",
   "execution_count": 37,
   "id": "dc0ccdd8",
   "metadata": {},
   "outputs": [
    {
     "data": {
      "text/plain": [
       "Microgeracao    2026451\n",
       "Minigeracao       11089\n",
       "Name: DscPorte, dtype: int64"
      ]
     },
     "execution_count": 37,
     "metadata": {},
     "output_type": "execute_result"
    }
   ],
   "source": [
    "contagem = df_aneel['DscPorte'].value_counts()\n",
    "contagem"
   ]
  },
  {
   "cell_type": "code",
   "execution_count": 38,
   "id": "62540aed",
   "metadata": {
    "scrolled": true
   },
   "outputs": [
    {
     "data": {
      "text/html": [
       "<div>\n",
       "<style scoped>\n",
       "    .dataframe tbody tr th:only-of-type {\n",
       "        vertical-align: middle;\n",
       "    }\n",
       "\n",
       "    .dataframe tbody tr th {\n",
       "        vertical-align: top;\n",
       "    }\n",
       "\n",
       "    .dataframe thead th {\n",
       "        text-align: right;\n",
       "    }\n",
       "</style>\n",
       "<table border=\"1\" class=\"dataframe\">\n",
       "  <thead>\n",
       "    <tr style=\"text-align: right;\">\n",
       "      <th></th>\n",
       "      <th>SigAgente</th>\n",
       "      <th>DscClasseConsumo</th>\n",
       "      <th>DscSubGrupoTarifario</th>\n",
       "      <th>municipiouf</th>\n",
       "      <th>SigTipoConsumidor</th>\n",
       "      <th>DthAtualizaCadastralEmpreend</th>\n",
       "      <th>SigModalidadeEmpreendimento</th>\n",
       "      <th>DscModalidadeHabilitado</th>\n",
       "      <th>QtdUCRecebeCredito</th>\n",
       "      <th>SigTipoGeracao</th>\n",
       "      <th>DscFonteGeracao</th>\n",
       "      <th>DscPorte</th>\n",
       "      <th>MdaPotenciaInstaladaKW</th>\n",
       "    </tr>\n",
       "  </thead>\n",
       "  <tbody>\n",
       "    <tr>\n",
       "      <th>0</th>\n",
       "      <td>CPFL-PAULISTA</td>\n",
       "      <td>Residencial</td>\n",
       "      <td>B1</td>\n",
       "      <td>Nova Granada (SP)</td>\n",
       "      <td>PF</td>\n",
       "      <td>2023-01-23</td>\n",
       "      <td>P</td>\n",
       "      <td>Com Microgeracao ou Minigeracao distribuida</td>\n",
       "      <td>1</td>\n",
       "      <td>UFV</td>\n",
       "      <td>Radiacao solar</td>\n",
       "      <td>Microgeracao</td>\n",
       "      <td>3,30</td>\n",
       "    </tr>\n",
       "    <tr>\n",
       "      <th>1</th>\n",
       "      <td>ELETROACRE</td>\n",
       "      <td>Comercial</td>\n",
       "      <td>B3</td>\n",
       "      <td>Rio Branco (AC)</td>\n",
       "      <td>PJ</td>\n",
       "      <td>2015-07-15</td>\n",
       "      <td>P</td>\n",
       "      <td>Com Microgeracao ou Minigeracao distribuida</td>\n",
       "      <td>1</td>\n",
       "      <td>UFV</td>\n",
       "      <td>Radiacao solar</td>\n",
       "      <td>Microgeracao</td>\n",
       "      <td>32,50</td>\n",
       "    </tr>\n",
       "    <tr>\n",
       "      <th>2</th>\n",
       "      <td>ELETROACRE</td>\n",
       "      <td>Residencial</td>\n",
       "      <td>B1</td>\n",
       "      <td>Tarauaca (AC)</td>\n",
       "      <td>PF</td>\n",
       "      <td>2015-04-20</td>\n",
       "      <td>P</td>\n",
       "      <td>Com Microgeracao ou Minigeracao distribuida</td>\n",
       "      <td>1</td>\n",
       "      <td>UFV</td>\n",
       "      <td>Radiacao solar</td>\n",
       "      <td>Microgeracao</td>\n",
       "      <td>4,00</td>\n",
       "    </tr>\n",
       "    <tr>\n",
       "      <th>3</th>\n",
       "      <td>ELETROACRE</td>\n",
       "      <td>Comercial</td>\n",
       "      <td>B3</td>\n",
       "      <td>Rio Branco (AC)</td>\n",
       "      <td>PJ</td>\n",
       "      <td>2015-06-22</td>\n",
       "      <td>P</td>\n",
       "      <td>Com Microgeracao ou Minigeracao distribuida</td>\n",
       "      <td>1</td>\n",
       "      <td>UFV</td>\n",
       "      <td>Radiacao solar</td>\n",
       "      <td>Microgeracao</td>\n",
       "      <td>2,00</td>\n",
       "    </tr>\n",
       "    <tr>\n",
       "      <th>4</th>\n",
       "      <td>ELETROACRE</td>\n",
       "      <td>Residencial</td>\n",
       "      <td>B1</td>\n",
       "      <td>Rio Branco (AC)</td>\n",
       "      <td>PF</td>\n",
       "      <td>2016-08-25</td>\n",
       "      <td>P</td>\n",
       "      <td>Com Microgeracao ou Minigeracao distribuida</td>\n",
       "      <td>1</td>\n",
       "      <td>UFV</td>\n",
       "      <td>Radiacao solar</td>\n",
       "      <td>Microgeracao</td>\n",
       "      <td>2,00</td>\n",
       "    </tr>\n",
       "  </tbody>\n",
       "</table>\n",
       "</div>"
      ],
      "text/plain": [
       "       SigAgente DscClasseConsumo DscSubGrupoTarifario        municipiouf  \\\n",
       "0  CPFL-PAULISTA      Residencial                   B1  Nova Granada (SP)   \n",
       "1     ELETROACRE        Comercial                   B3    Rio Branco (AC)   \n",
       "2     ELETROACRE      Residencial                   B1      Tarauaca (AC)   \n",
       "3     ELETROACRE        Comercial                   B3    Rio Branco (AC)   \n",
       "4     ELETROACRE      Residencial                   B1    Rio Branco (AC)   \n",
       "\n",
       "  SigTipoConsumidor DthAtualizaCadastralEmpreend SigModalidadeEmpreendimento  \\\n",
       "0                PF                   2023-01-23                           P   \n",
       "1                PJ                   2015-07-15                           P   \n",
       "2                PF                   2015-04-20                           P   \n",
       "3                PJ                   2015-06-22                           P   \n",
       "4                PF                   2016-08-25                           P   \n",
       "\n",
       "                       DscModalidadeHabilitado  QtdUCRecebeCredito  \\\n",
       "0  Com Microgeracao ou Minigeracao distribuida                   1   \n",
       "1  Com Microgeracao ou Minigeracao distribuida                   1   \n",
       "2  Com Microgeracao ou Minigeracao distribuida                   1   \n",
       "3  Com Microgeracao ou Minigeracao distribuida                   1   \n",
       "4  Com Microgeracao ou Minigeracao distribuida                   1   \n",
       "\n",
       "  SigTipoGeracao DscFonteGeracao      DscPorte MdaPotenciaInstaladaKW  \n",
       "0            UFV  Radiacao solar  Microgeracao                   3,30  \n",
       "1            UFV  Radiacao solar  Microgeracao                  32,50  \n",
       "2            UFV  Radiacao solar  Microgeracao                   4,00  \n",
       "3            UFV  Radiacao solar  Microgeracao                   2,00  \n",
       "4            UFV  Radiacao solar  Microgeracao                   2,00  "
      ]
     },
     "execution_count": 38,
     "metadata": {},
     "output_type": "execute_result"
    }
   ],
   "source": [
    "df_aneel.head()"
   ]
  },
  {
   "cell_type": "code",
   "execution_count": 39,
   "id": "fd6b0252",
   "metadata": {
    "scrolled": true
   },
   "outputs": [
    {
     "data": {
      "text/html": [
       "<div>\n",
       "<style scoped>\n",
       "    .dataframe tbody tr th:only-of-type {\n",
       "        vertical-align: middle;\n",
       "    }\n",
       "\n",
       "    .dataframe tbody tr th {\n",
       "        vertical-align: top;\n",
       "    }\n",
       "\n",
       "    .dataframe thead th {\n",
       "        text-align: right;\n",
       "    }\n",
       "</style>\n",
       "<table border=\"1\" class=\"dataframe\">\n",
       "  <thead>\n",
       "    <tr style=\"text-align: right;\">\n",
       "      <th></th>\n",
       "      <th>SigAgente</th>\n",
       "      <th>DscClasseConsumo</th>\n",
       "      <th>DscSubGrupoTarifario</th>\n",
       "      <th>municipiouf</th>\n",
       "      <th>SigTipoConsumidor</th>\n",
       "      <th>DthAtualizaCadastralEmpreend</th>\n",
       "      <th>SigModalidadeEmpreendimento</th>\n",
       "      <th>DscModalidadeHabilitado</th>\n",
       "      <th>QtdUCRecebeCredito</th>\n",
       "      <th>SigTipoGeracao</th>\n",
       "      <th>DscFonteGeracao</th>\n",
       "      <th>DscPorte</th>\n",
       "      <th>MdaPotenciaInstaladaKW</th>\n",
       "    </tr>\n",
       "  </thead>\n",
       "  <tbody>\n",
       "    <tr>\n",
       "      <th>2038036</th>\n",
       "      <td>ETO</td>\n",
       "      <td>Residencial</td>\n",
       "      <td>B1</td>\n",
       "      <td>Itapora do Tocantins (TO)</td>\n",
       "      <td>PF</td>\n",
       "      <td>2023-07-05</td>\n",
       "      <td>R</td>\n",
       "      <td>Caracterizada como Autoconsumo remoto</td>\n",
       "      <td>2</td>\n",
       "      <td>UFV</td>\n",
       "      <td>Radiacao solar</td>\n",
       "      <td>Microgeracao</td>\n",
       "      <td>6,00</td>\n",
       "    </tr>\n",
       "    <tr>\n",
       "      <th>2038037</th>\n",
       "      <td>ETO</td>\n",
       "      <td>Residencial</td>\n",
       "      <td>B1</td>\n",
       "      <td>Pedro Afonso (TO)</td>\n",
       "      <td>PF</td>\n",
       "      <td>2023-07-05</td>\n",
       "      <td>P</td>\n",
       "      <td>Com Microgeracao ou Minigeracao distribuida</td>\n",
       "      <td>1</td>\n",
       "      <td>UFV</td>\n",
       "      <td>Radiacao solar</td>\n",
       "      <td>Microgeracao</td>\n",
       "      <td>20,00</td>\n",
       "    </tr>\n",
       "    <tr>\n",
       "      <th>2038038</th>\n",
       "      <td>ETO</td>\n",
       "      <td>Residencial</td>\n",
       "      <td>B1</td>\n",
       "      <td>Paraiso do Tocantins (TO)</td>\n",
       "      <td>PF</td>\n",
       "      <td>2023-07-05</td>\n",
       "      <td>P</td>\n",
       "      <td>Com Microgeracao ou Minigeracao distribuida</td>\n",
       "      <td>1</td>\n",
       "      <td>UFV</td>\n",
       "      <td>Radiacao solar</td>\n",
       "      <td>Microgeracao</td>\n",
       "      <td>5,00</td>\n",
       "    </tr>\n",
       "    <tr>\n",
       "      <th>2038039</th>\n",
       "      <td>ETO</td>\n",
       "      <td>Residencial</td>\n",
       "      <td>B1</td>\n",
       "      <td>Araguaina (TO)</td>\n",
       "      <td>PF</td>\n",
       "      <td>2023-07-04</td>\n",
       "      <td>P</td>\n",
       "      <td>Com Microgeracao ou Minigeracao distribuida</td>\n",
       "      <td>1</td>\n",
       "      <td>UFV</td>\n",
       "      <td>Radiacao solar</td>\n",
       "      <td>Microgeracao</td>\n",
       "      <td>6,00</td>\n",
       "    </tr>\n",
       "    <tr>\n",
       "      <th>2038040</th>\n",
       "      <td>ETO</td>\n",
       "      <td>Comercial</td>\n",
       "      <td>B3</td>\n",
       "      <td>Palmas (TO)</td>\n",
       "      <td>PJ</td>\n",
       "      <td>2023-07-05</td>\n",
       "      <td>P</td>\n",
       "      <td>Com Microgeracao ou Minigeracao distribuida</td>\n",
       "      <td>1</td>\n",
       "      <td>UFV</td>\n",
       "      <td>Radiacao solar</td>\n",
       "      <td>Microgeracao</td>\n",
       "      <td>50,00</td>\n",
       "    </tr>\n",
       "  </tbody>\n",
       "</table>\n",
       "</div>"
      ],
      "text/plain": [
       "        SigAgente DscClasseConsumo DscSubGrupoTarifario  \\\n",
       "2038036       ETO      Residencial                   B1   \n",
       "2038037       ETO      Residencial                   B1   \n",
       "2038038       ETO      Residencial                   B1   \n",
       "2038039       ETO      Residencial                   B1   \n",
       "2038040       ETO        Comercial                   B3   \n",
       "\n",
       "                       municipiouf SigTipoConsumidor  \\\n",
       "2038036  Itapora do Tocantins (TO)                PF   \n",
       "2038037          Pedro Afonso (TO)                PF   \n",
       "2038038  Paraiso do Tocantins (TO)                PF   \n",
       "2038039             Araguaina (TO)                PF   \n",
       "2038040                Palmas (TO)                PJ   \n",
       "\n",
       "        DthAtualizaCadastralEmpreend SigModalidadeEmpreendimento  \\\n",
       "2038036                   2023-07-05                           R   \n",
       "2038037                   2023-07-05                           P   \n",
       "2038038                   2023-07-05                           P   \n",
       "2038039                   2023-07-04                           P   \n",
       "2038040                   2023-07-05                           P   \n",
       "\n",
       "                             DscModalidadeHabilitado  QtdUCRecebeCredito  \\\n",
       "2038036        Caracterizada como Autoconsumo remoto                   2   \n",
       "2038037  Com Microgeracao ou Minigeracao distribuida                   1   \n",
       "2038038  Com Microgeracao ou Minigeracao distribuida                   1   \n",
       "2038039  Com Microgeracao ou Minigeracao distribuida                   1   \n",
       "2038040  Com Microgeracao ou Minigeracao distribuida                   1   \n",
       "\n",
       "        SigTipoGeracao DscFonteGeracao      DscPorte MdaPotenciaInstaladaKW  \n",
       "2038036            UFV  Radiacao solar  Microgeracao                   6,00  \n",
       "2038037            UFV  Radiacao solar  Microgeracao                  20,00  \n",
       "2038038            UFV  Radiacao solar  Microgeracao                   5,00  \n",
       "2038039            UFV  Radiacao solar  Microgeracao                   6,00  \n",
       "2038040            UFV  Radiacao solar  Microgeracao                  50,00  "
      ]
     },
     "execution_count": 39,
     "metadata": {},
     "output_type": "execute_result"
    }
   ],
   "source": [
    "df_aneel.tail()"
   ]
  },
  {
   "cell_type": "code",
   "execution_count": 40,
   "id": "cd809740",
   "metadata": {},
   "outputs": [],
   "source": [
    "df_aneel['MdaPotenciaInstaladaKW'] = df_aneel['MdaPotenciaInstaladaKW'].str.replace(',', '.')"
   ]
  },
  {
   "cell_type": "code",
   "execution_count": 41,
   "id": "a641ee82",
   "metadata": {},
   "outputs": [
    {
     "name": "stdout",
     "output_type": "stream",
     "text": [
      "<class 'pandas.core.frame.DataFrame'>\n",
      "Int64Index: 2037540 entries, 0 to 2038040\n",
      "Data columns (total 13 columns):\n",
      " #   Column                        Dtype \n",
      "---  ------                        ----- \n",
      " 0   SigAgente                     object\n",
      " 1   DscClasseConsumo              object\n",
      " 2   DscSubGrupoTarifario          object\n",
      " 3   municipiouf                   object\n",
      " 4   SigTipoConsumidor             object\n",
      " 5   DthAtualizaCadastralEmpreend  object\n",
      " 6   SigModalidadeEmpreendimento   object\n",
      " 7   DscModalidadeHabilitado       object\n",
      " 8   QtdUCRecebeCredito            int64 \n",
      " 9   SigTipoGeracao                object\n",
      " 10  DscFonteGeracao               object\n",
      " 11  DscPorte                      object\n",
      " 12  MdaPotenciaInstaladaKW        object\n",
      "dtypes: int64(1), object(12)\n",
      "memory usage: 217.6+ MB\n"
     ]
    }
   ],
   "source": [
    "df_aneel.info()"
   ]
  },
  {
   "cell_type": "code",
   "execution_count": 42,
   "id": "1fadde26",
   "metadata": {},
   "outputs": [
    {
     "data": {
      "text/html": [
       "<div>\n",
       "<style scoped>\n",
       "    .dataframe tbody tr th:only-of-type {\n",
       "        vertical-align: middle;\n",
       "    }\n",
       "\n",
       "    .dataframe tbody tr th {\n",
       "        vertical-align: top;\n",
       "    }\n",
       "\n",
       "    .dataframe thead th {\n",
       "        text-align: right;\n",
       "    }\n",
       "</style>\n",
       "<table border=\"1\" class=\"dataframe\">\n",
       "  <thead>\n",
       "    <tr style=\"text-align: right;\">\n",
       "      <th></th>\n",
       "      <th>SigAgente</th>\n",
       "      <th>DscClasseConsumo</th>\n",
       "      <th>DscSubGrupoTarifario</th>\n",
       "      <th>municipiouf</th>\n",
       "      <th>SigTipoConsumidor</th>\n",
       "      <th>DthAtualizaCadastralEmpreend</th>\n",
       "      <th>SigModalidadeEmpreendimento</th>\n",
       "      <th>DscModalidadeHabilitado</th>\n",
       "      <th>QtdUCRecebeCredito</th>\n",
       "      <th>SigTipoGeracao</th>\n",
       "      <th>DscFonteGeracao</th>\n",
       "      <th>DscPorte</th>\n",
       "      <th>MdaPotenciaInstaladaKW</th>\n",
       "    </tr>\n",
       "  </thead>\n",
       "  <tbody>\n",
       "    <tr>\n",
       "      <th>0</th>\n",
       "      <td>CPFL-PAULISTA</td>\n",
       "      <td>Residencial</td>\n",
       "      <td>B1</td>\n",
       "      <td>Nova Granada (SP)</td>\n",
       "      <td>PF</td>\n",
       "      <td>2023-01-23</td>\n",
       "      <td>P</td>\n",
       "      <td>Com Microgeracao ou Minigeracao distribuida</td>\n",
       "      <td>1</td>\n",
       "      <td>UFV</td>\n",
       "      <td>Radiacao solar</td>\n",
       "      <td>Microgeracao</td>\n",
       "      <td>3.30</td>\n",
       "    </tr>\n",
       "    <tr>\n",
       "      <th>1</th>\n",
       "      <td>ELETROACRE</td>\n",
       "      <td>Comercial</td>\n",
       "      <td>B3</td>\n",
       "      <td>Rio Branco (AC)</td>\n",
       "      <td>PJ</td>\n",
       "      <td>2015-07-15</td>\n",
       "      <td>P</td>\n",
       "      <td>Com Microgeracao ou Minigeracao distribuida</td>\n",
       "      <td>1</td>\n",
       "      <td>UFV</td>\n",
       "      <td>Radiacao solar</td>\n",
       "      <td>Microgeracao</td>\n",
       "      <td>32.50</td>\n",
       "    </tr>\n",
       "    <tr>\n",
       "      <th>2</th>\n",
       "      <td>ELETROACRE</td>\n",
       "      <td>Residencial</td>\n",
       "      <td>B1</td>\n",
       "      <td>Tarauaca (AC)</td>\n",
       "      <td>PF</td>\n",
       "      <td>2015-04-20</td>\n",
       "      <td>P</td>\n",
       "      <td>Com Microgeracao ou Minigeracao distribuida</td>\n",
       "      <td>1</td>\n",
       "      <td>UFV</td>\n",
       "      <td>Radiacao solar</td>\n",
       "      <td>Microgeracao</td>\n",
       "      <td>4.00</td>\n",
       "    </tr>\n",
       "    <tr>\n",
       "      <th>3</th>\n",
       "      <td>ELETROACRE</td>\n",
       "      <td>Comercial</td>\n",
       "      <td>B3</td>\n",
       "      <td>Rio Branco (AC)</td>\n",
       "      <td>PJ</td>\n",
       "      <td>2015-06-22</td>\n",
       "      <td>P</td>\n",
       "      <td>Com Microgeracao ou Minigeracao distribuida</td>\n",
       "      <td>1</td>\n",
       "      <td>UFV</td>\n",
       "      <td>Radiacao solar</td>\n",
       "      <td>Microgeracao</td>\n",
       "      <td>2.00</td>\n",
       "    </tr>\n",
       "    <tr>\n",
       "      <th>4</th>\n",
       "      <td>ELETROACRE</td>\n",
       "      <td>Residencial</td>\n",
       "      <td>B1</td>\n",
       "      <td>Rio Branco (AC)</td>\n",
       "      <td>PF</td>\n",
       "      <td>2016-08-25</td>\n",
       "      <td>P</td>\n",
       "      <td>Com Microgeracao ou Minigeracao distribuida</td>\n",
       "      <td>1</td>\n",
       "      <td>UFV</td>\n",
       "      <td>Radiacao solar</td>\n",
       "      <td>Microgeracao</td>\n",
       "      <td>2.00</td>\n",
       "    </tr>\n",
       "  </tbody>\n",
       "</table>\n",
       "</div>"
      ],
      "text/plain": [
       "       SigAgente DscClasseConsumo DscSubGrupoTarifario        municipiouf  \\\n",
       "0  CPFL-PAULISTA      Residencial                   B1  Nova Granada (SP)   \n",
       "1     ELETROACRE        Comercial                   B3    Rio Branco (AC)   \n",
       "2     ELETROACRE      Residencial                   B1      Tarauaca (AC)   \n",
       "3     ELETROACRE        Comercial                   B3    Rio Branco (AC)   \n",
       "4     ELETROACRE      Residencial                   B1    Rio Branco (AC)   \n",
       "\n",
       "  SigTipoConsumidor DthAtualizaCadastralEmpreend SigModalidadeEmpreendimento  \\\n",
       "0                PF                   2023-01-23                           P   \n",
       "1                PJ                   2015-07-15                           P   \n",
       "2                PF                   2015-04-20                           P   \n",
       "3                PJ                   2015-06-22                           P   \n",
       "4                PF                   2016-08-25                           P   \n",
       "\n",
       "                       DscModalidadeHabilitado  QtdUCRecebeCredito  \\\n",
       "0  Com Microgeracao ou Minigeracao distribuida                   1   \n",
       "1  Com Microgeracao ou Minigeracao distribuida                   1   \n",
       "2  Com Microgeracao ou Minigeracao distribuida                   1   \n",
       "3  Com Microgeracao ou Minigeracao distribuida                   1   \n",
       "4  Com Microgeracao ou Minigeracao distribuida                   1   \n",
       "\n",
       "  SigTipoGeracao DscFonteGeracao      DscPorte MdaPotenciaInstaladaKW  \n",
       "0            UFV  Radiacao solar  Microgeracao                   3.30  \n",
       "1            UFV  Radiacao solar  Microgeracao                  32.50  \n",
       "2            UFV  Radiacao solar  Microgeracao                   4.00  \n",
       "3            UFV  Radiacao solar  Microgeracao                   2.00  \n",
       "4            UFV  Radiacao solar  Microgeracao                   2.00  "
      ]
     },
     "execution_count": 42,
     "metadata": {},
     "output_type": "execute_result"
    }
   ],
   "source": [
    "df_aneel.head()"
   ]
  },
  {
   "cell_type": "markdown",
   "id": "ef687970",
   "metadata": {},
   "source": [
    "### Carregamento de Dados do IBGE"
   ]
  },
  {
   "cell_type": "code",
   "execution_count": 44,
   "id": "523bccca",
   "metadata": {},
   "outputs": [
    {
     "data": {
      "text/html": [
       "<div>\n",
       "<style scoped>\n",
       "    .dataframe tbody tr th:only-of-type {\n",
       "        vertical-align: middle;\n",
       "    }\n",
       "\n",
       "    .dataframe tbody tr th {\n",
       "        vertical-align: top;\n",
       "    }\n",
       "\n",
       "    .dataframe thead th {\n",
       "        text-align: right;\n",
       "    }\n",
       "</style>\n",
       "<table border=\"1\" class=\"dataframe\">\n",
       "  <thead>\n",
       "    <tr style=\"text-align: right;\">\n",
       "      <th></th>\n",
       "      <th>Municipio</th>\n",
       "      <th>Populacao</th>\n",
       "      <th>Domicilios</th>\n",
       "    </tr>\n",
       "  </thead>\n",
       "  <tbody>\n",
       "    <tr>\n",
       "      <th>0</th>\n",
       "      <td>Alta Floresta D'Oeste (RO)</td>\n",
       "      <td>21495</td>\n",
       "      <td>10081</td>\n",
       "    </tr>\n",
       "    <tr>\n",
       "      <th>1</th>\n",
       "      <td>Ariquemes (RO)</td>\n",
       "      <td>96833</td>\n",
       "      <td>44157</td>\n",
       "    </tr>\n",
       "    <tr>\n",
       "      <th>2</th>\n",
       "      <td>Cabixi (RO)</td>\n",
       "      <td>5363</td>\n",
       "      <td>2927</td>\n",
       "    </tr>\n",
       "    <tr>\n",
       "      <th>3</th>\n",
       "      <td>Cacoal (RO)</td>\n",
       "      <td>86895</td>\n",
       "      <td>40932</td>\n",
       "    </tr>\n",
       "    <tr>\n",
       "      <th>4</th>\n",
       "      <td>Cerejeiras (RO)</td>\n",
       "      <td>15890</td>\n",
       "      <td>7069</td>\n",
       "    </tr>\n",
       "  </tbody>\n",
       "</table>\n",
       "</div>"
      ],
      "text/plain": [
       "                    Municipio  Populacao  Domicilios\n",
       "0  Alta Floresta D'Oeste (RO)      21495       10081\n",
       "1              Ariquemes (RO)      96833       44157\n",
       "2                 Cabixi (RO)       5363        2927\n",
       "3                 Cacoal (RO)      86895       40932\n",
       "4             Cerejeiras (RO)      15890        7069"
      ]
     },
     "execution_count": 44,
     "metadata": {},
     "output_type": "execute_result"
    }
   ],
   "source": [
    "df_ibge = pd.read_excel('tabela_populacao_domicilio_ibge.xlsx')\n",
    "df_ibge.head()"
   ]
  },
  {
   "cell_type": "code",
   "execution_count": 45,
   "id": "dbc7ad5c",
   "metadata": {},
   "outputs": [
    {
     "name": "stdout",
     "output_type": "stream",
     "text": [
      "<class 'pandas.core.frame.DataFrame'>\n",
      "RangeIndex: 5570 entries, 0 to 5569\n",
      "Data columns (total 3 columns):\n",
      " #   Column      Non-Null Count  Dtype \n",
      "---  ------      --------------  ----- \n",
      " 0   Municipio   5570 non-null   object\n",
      " 1   Populacao   5570 non-null   int64 \n",
      " 2   Domicilios  5570 non-null   int64 \n",
      "dtypes: int64(2), object(1)\n",
      "memory usage: 130.7+ KB\n"
     ]
    }
   ],
   "source": [
    "df_ibge.info()"
   ]
  },
  {
   "cell_type": "code",
   "execution_count": 46,
   "id": "2a013f64",
   "metadata": {},
   "outputs": [
    {
     "data": {
      "text/plain": [
       "Municipio     0\n",
       "Populacao     0\n",
       "Domicilios    0\n",
       "dtype: int64"
      ]
     },
     "execution_count": 46,
     "metadata": {},
     "output_type": "execute_result"
    }
   ],
   "source": [
    "df_ibge.isnull().sum()"
   ]
  },
  {
   "cell_type": "markdown",
   "id": "1d8265d0",
   "metadata": {},
   "source": [
    "### Análise, Limpeza e Tratamento de Dados do IBGE"
   ]
  },
  {
   "cell_type": "code",
   "execution_count": 48,
   "id": "11e15e1f",
   "metadata": {},
   "outputs": [],
   "source": [
    "def remover_acentos(texto):\n",
    "    return unidecode(texto)\n",
    "\n",
    "df_ibge['Municipio'] = df_ibge['Municipio'].apply(lambda x: remover_acentos(x))"
   ]
  },
  {
   "cell_type": "code",
   "execution_count": 49,
   "id": "b62ad934",
   "metadata": {
    "scrolled": false
   },
   "outputs": [
    {
     "data": {
      "text/html": [
       "<div>\n",
       "<style scoped>\n",
       "    .dataframe tbody tr th:only-of-type {\n",
       "        vertical-align: middle;\n",
       "    }\n",
       "\n",
       "    .dataframe tbody tr th {\n",
       "        vertical-align: top;\n",
       "    }\n",
       "\n",
       "    .dataframe thead th {\n",
       "        text-align: right;\n",
       "    }\n",
       "</style>\n",
       "<table border=\"1\" class=\"dataframe\">\n",
       "  <thead>\n",
       "    <tr style=\"text-align: right;\">\n",
       "      <th></th>\n",
       "      <th>Municipio</th>\n",
       "      <th>Populacao</th>\n",
       "      <th>Domicilios</th>\n",
       "    </tr>\n",
       "  </thead>\n",
       "  <tbody>\n",
       "    <tr>\n",
       "      <th>0</th>\n",
       "      <td>Alta Floresta D'Oeste (RO)</td>\n",
       "      <td>21495</td>\n",
       "      <td>10081</td>\n",
       "    </tr>\n",
       "    <tr>\n",
       "      <th>1</th>\n",
       "      <td>Ariquemes (RO)</td>\n",
       "      <td>96833</td>\n",
       "      <td>44157</td>\n",
       "    </tr>\n",
       "    <tr>\n",
       "      <th>2</th>\n",
       "      <td>Cabixi (RO)</td>\n",
       "      <td>5363</td>\n",
       "      <td>2927</td>\n",
       "    </tr>\n",
       "    <tr>\n",
       "      <th>3</th>\n",
       "      <td>Cacoal (RO)</td>\n",
       "      <td>86895</td>\n",
       "      <td>40932</td>\n",
       "    </tr>\n",
       "    <tr>\n",
       "      <th>4</th>\n",
       "      <td>Cerejeiras (RO)</td>\n",
       "      <td>15890</td>\n",
       "      <td>7069</td>\n",
       "    </tr>\n",
       "  </tbody>\n",
       "</table>\n",
       "</div>"
      ],
      "text/plain": [
       "                    Municipio  Populacao  Domicilios\n",
       "0  Alta Floresta D'Oeste (RO)      21495       10081\n",
       "1              Ariquemes (RO)      96833       44157\n",
       "2                 Cabixi (RO)       5363        2927\n",
       "3                 Cacoal (RO)      86895       40932\n",
       "4             Cerejeiras (RO)      15890        7069"
      ]
     },
     "execution_count": 49,
     "metadata": {},
     "output_type": "execute_result"
    }
   ],
   "source": [
    "df_ibge.head()"
   ]
  },
  {
   "cell_type": "code",
   "execution_count": 50,
   "id": "0683910c",
   "metadata": {},
   "outputs": [],
   "source": [
    "df_ibge['Municipio'] = df_ibge['Municipio'].str.replace(r\"D'\", \"d'\")"
   ]
  },
  {
   "cell_type": "code",
   "execution_count": 51,
   "id": "ef85c425",
   "metadata": {},
   "outputs": [],
   "source": [
    "df_ibge['UF'] = df_ibge['Municipio'].str.extract(r'\\((\\w\\w)\\)')"
   ]
  },
  {
   "cell_type": "code",
   "execution_count": 52,
   "id": "5423bcf9",
   "metadata": {},
   "outputs": [],
   "source": [
    "regiao_map = {\n",
    "    'Sul': ['RS', 'SC', 'PR'],\n",
    "    'Sudeste': ['SP', 'RJ', 'MG', 'ES'],\n",
    "    'Centro Oeste': ['MT', 'MS', 'GO', 'DF'],\n",
    "    'Nordeste': ['BA', 'SE', 'AL', 'PE', 'PB', 'RN', 'CE', 'PI', 'MA'],\n",
    "    'Norte': ['AM', 'RR', 'AP', 'PA', 'TO', 'RO', 'AC']\n",
    "}"
   ]
  },
  {
   "cell_type": "code",
   "execution_count": 53,
   "id": "e99cb2c4",
   "metadata": {},
   "outputs": [],
   "source": [
    "df_ibge['Regiao'] = df_ibge['UF'].map({uf: regiao for regiao, ufs in regiao_map.items() for uf in ufs})"
   ]
  },
  {
   "cell_type": "code",
   "execution_count": 54,
   "id": "2e9b2236",
   "metadata": {},
   "outputs": [
    {
     "data": {
      "text/html": [
       "<div>\n",
       "<style scoped>\n",
       "    .dataframe tbody tr th:only-of-type {\n",
       "        vertical-align: middle;\n",
       "    }\n",
       "\n",
       "    .dataframe tbody tr th {\n",
       "        vertical-align: top;\n",
       "    }\n",
       "\n",
       "    .dataframe thead th {\n",
       "        text-align: right;\n",
       "    }\n",
       "</style>\n",
       "<table border=\"1\" class=\"dataframe\">\n",
       "  <thead>\n",
       "    <tr style=\"text-align: right;\">\n",
       "      <th></th>\n",
       "      <th>Municipio</th>\n",
       "      <th>Populacao</th>\n",
       "      <th>Domicilios</th>\n",
       "      <th>UF</th>\n",
       "      <th>Regiao</th>\n",
       "    </tr>\n",
       "  </thead>\n",
       "  <tbody>\n",
       "    <tr>\n",
       "      <th>0</th>\n",
       "      <td>Alta Floresta d'Oeste (RO)</td>\n",
       "      <td>21495</td>\n",
       "      <td>10081</td>\n",
       "      <td>RO</td>\n",
       "      <td>Norte</td>\n",
       "    </tr>\n",
       "    <tr>\n",
       "      <th>1</th>\n",
       "      <td>Ariquemes (RO)</td>\n",
       "      <td>96833</td>\n",
       "      <td>44157</td>\n",
       "      <td>RO</td>\n",
       "      <td>Norte</td>\n",
       "    </tr>\n",
       "    <tr>\n",
       "      <th>2</th>\n",
       "      <td>Cabixi (RO)</td>\n",
       "      <td>5363</td>\n",
       "      <td>2927</td>\n",
       "      <td>RO</td>\n",
       "      <td>Norte</td>\n",
       "    </tr>\n",
       "    <tr>\n",
       "      <th>3</th>\n",
       "      <td>Cacoal (RO)</td>\n",
       "      <td>86895</td>\n",
       "      <td>40932</td>\n",
       "      <td>RO</td>\n",
       "      <td>Norte</td>\n",
       "    </tr>\n",
       "    <tr>\n",
       "      <th>4</th>\n",
       "      <td>Cerejeiras (RO)</td>\n",
       "      <td>15890</td>\n",
       "      <td>7069</td>\n",
       "      <td>RO</td>\n",
       "      <td>Norte</td>\n",
       "    </tr>\n",
       "  </tbody>\n",
       "</table>\n",
       "</div>"
      ],
      "text/plain": [
       "                    Municipio  Populacao  Domicilios  UF Regiao\n",
       "0  Alta Floresta d'Oeste (RO)      21495       10081  RO  Norte\n",
       "1              Ariquemes (RO)      96833       44157  RO  Norte\n",
       "2                 Cabixi (RO)       5363        2927  RO  Norte\n",
       "3                 Cacoal (RO)      86895       40932  RO  Norte\n",
       "4             Cerejeiras (RO)      15890        7069  RO  Norte"
      ]
     },
     "execution_count": 54,
     "metadata": {},
     "output_type": "execute_result"
    }
   ],
   "source": [
    "df_ibge.head()"
   ]
  },
  {
   "cell_type": "code",
   "execution_count": 55,
   "id": "4d4a87cd",
   "metadata": {},
   "outputs": [
    {
     "data": {
      "text/plain": [
       "array(['Nova Granada (SP)', 'Rio Branco (AC)', 'Tarauaca (AC)', ...,\n",
       "       'Juarina (TO)', 'Centenario (TO)', 'Chapada de Areia (TO)'],\n",
       "      dtype=object)"
      ]
     },
     "execution_count": 55,
     "metadata": {},
     "output_type": "execute_result"
    }
   ],
   "source": [
    "lista_municipios_aneel = df_aneel['municipiouf'].unique()\n",
    "lista_municipios_aneel"
   ]
  },
  {
   "cell_type": "code",
   "execution_count": 56,
   "id": "ce9798c0",
   "metadata": {},
   "outputs": [
    {
     "data": {
      "text/html": [
       "<div>\n",
       "<style scoped>\n",
       "    .dataframe tbody tr th:only-of-type {\n",
       "        vertical-align: middle;\n",
       "    }\n",
       "\n",
       "    .dataframe tbody tr th {\n",
       "        vertical-align: top;\n",
       "    }\n",
       "\n",
       "    .dataframe thead th {\n",
       "        text-align: right;\n",
       "    }\n",
       "</style>\n",
       "<table border=\"1\" class=\"dataframe\">\n",
       "  <thead>\n",
       "    <tr style=\"text-align: right;\">\n",
       "      <th></th>\n",
       "      <th>nome</th>\n",
       "    </tr>\n",
       "  </thead>\n",
       "  <tbody>\n",
       "    <tr>\n",
       "      <th>count</th>\n",
       "      <td>5532</td>\n",
       "    </tr>\n",
       "    <tr>\n",
       "      <th>unique</th>\n",
       "      <td>5532</td>\n",
       "    </tr>\n",
       "    <tr>\n",
       "      <th>top</th>\n",
       "      <td>Nova Granada (SP)</td>\n",
       "    </tr>\n",
       "    <tr>\n",
       "      <th>freq</th>\n",
       "      <td>1</td>\n",
       "    </tr>\n",
       "  </tbody>\n",
       "</table>\n",
       "</div>"
      ],
      "text/plain": [
       "                     nome\n",
       "count                5532\n",
       "unique               5532\n",
       "top     Nova Granada (SP)\n",
       "freq                    1"
      ]
     },
     "execution_count": 56,
     "metadata": {},
     "output_type": "execute_result"
    }
   ],
   "source": [
    "df_municipio_aneel = pd.DataFrame({'nome': lista_municipios_aneel})\n",
    "df_municipio_aneel.describe()"
   ]
  },
  {
   "cell_type": "code",
   "execution_count": 57,
   "id": "7656aa73",
   "metadata": {},
   "outputs": [],
   "source": [
    "municipios_join = df_ibge['Municipio'].isin(df_municipio_aneel['nome'])"
   ]
  },
  {
   "cell_type": "code",
   "execution_count": 58,
   "id": "bec1408f",
   "metadata": {},
   "outputs": [
    {
     "data": {
      "text/plain": [
       "count     5570\n",
       "unique       2\n",
       "top       True\n",
       "freq      5508\n",
       "Name: Municipio, dtype: object"
      ]
     },
     "execution_count": 58,
     "metadata": {},
     "output_type": "execute_result"
    }
   ],
   "source": [
    "municipios_join.describe()"
   ]
  },
  {
   "cell_type": "code",
   "execution_count": 59,
   "id": "b1add589",
   "metadata": {},
   "outputs": [],
   "source": [
    "municipios_final = df_municipio_aneel.merge(df_ibge, left_on='nome', right_on='Municipio',how='outer')"
   ]
  },
  {
   "cell_type": "code",
   "execution_count": 60,
   "id": "6dc6b248",
   "metadata": {},
   "outputs": [
    {
     "data": {
      "text/html": [
       "<div>\n",
       "<style scoped>\n",
       "    .dataframe tbody tr th:only-of-type {\n",
       "        vertical-align: middle;\n",
       "    }\n",
       "\n",
       "    .dataframe tbody tr th {\n",
       "        vertical-align: top;\n",
       "    }\n",
       "\n",
       "    .dataframe thead th {\n",
       "        text-align: right;\n",
       "    }\n",
       "</style>\n",
       "<table border=\"1\" class=\"dataframe\">\n",
       "  <thead>\n",
       "    <tr style=\"text-align: right;\">\n",
       "      <th></th>\n",
       "      <th>nome</th>\n",
       "      <th>Municipio</th>\n",
       "      <th>Populacao</th>\n",
       "      <th>Domicilios</th>\n",
       "      <th>UF</th>\n",
       "      <th>Regiao</th>\n",
       "    </tr>\n",
       "  </thead>\n",
       "  <tbody>\n",
       "    <tr>\n",
       "      <th>885</th>\n",
       "      <td>Abadia de Goias (GO)</td>\n",
       "      <td>Abadia de Goias (GO)</td>\n",
       "      <td>19128.0</td>\n",
       "      <td>7866.0</td>\n",
       "      <td>GO</td>\n",
       "      <td>Centro Oeste</td>\n",
       "    </tr>\n",
       "    <tr>\n",
       "      <th>1901</th>\n",
       "      <td>Abadia dos Dourados (MG)</td>\n",
       "      <td>Abadia dos Dourados (MG)</td>\n",
       "      <td>6272.0</td>\n",
       "      <td>3477.0</td>\n",
       "      <td>MG</td>\n",
       "      <td>Sudeste</td>\n",
       "    </tr>\n",
       "    <tr>\n",
       "      <th>927</th>\n",
       "      <td>Abadiania (GO)</td>\n",
       "      <td>Abadiania (GO)</td>\n",
       "      <td>17228.0</td>\n",
       "      <td>10301.0</td>\n",
       "      <td>GO</td>\n",
       "      <td>Centro Oeste</td>\n",
       "    </tr>\n",
       "    <tr>\n",
       "      <th>1460</th>\n",
       "      <td>Abaete (MG)</td>\n",
       "      <td>Abaete (MG)</td>\n",
       "      <td>22675.0</td>\n",
       "      <td>12156.0</td>\n",
       "      <td>MG</td>\n",
       "      <td>Sudeste</td>\n",
       "    </tr>\n",
       "    <tr>\n",
       "      <th>2408</th>\n",
       "      <td>Abaetetuba (PA)</td>\n",
       "      <td>Abaetetuba (PA)</td>\n",
       "      <td>158188.0</td>\n",
       "      <td>51416.0</td>\n",
       "      <td>PA</td>\n",
       "      <td>Norte</td>\n",
       "    </tr>\n",
       "    <tr>\n",
       "      <th>...</th>\n",
       "      <td>...</td>\n",
       "      <td>...</td>\n",
       "      <td>...</td>\n",
       "      <td>...</td>\n",
       "      <td>...</td>\n",
       "      <td>...</td>\n",
       "    </tr>\n",
       "    <tr>\n",
       "      <th>5589</th>\n",
       "      <td>NaN</td>\n",
       "      <td>Grao-Para (SC)</td>\n",
       "      <td>6277.0</td>\n",
       "      <td>2669.0</td>\n",
       "      <td>SC</td>\n",
       "      <td>Sul</td>\n",
       "    </tr>\n",
       "    <tr>\n",
       "      <th>5590</th>\n",
       "      <td>NaN</td>\n",
       "      <td>Pescaria Brava (SC)</td>\n",
       "      <td>10190.0</td>\n",
       "      <td>4422.0</td>\n",
       "      <td>SC</td>\n",
       "      <td>Sul</td>\n",
       "    </tr>\n",
       "    <tr>\n",
       "      <th>5591</th>\n",
       "      <td>NaN</td>\n",
       "      <td>Balneario Rincao (SC)</td>\n",
       "      <td>15981.0</td>\n",
       "      <td>15712.0</td>\n",
       "      <td>SC</td>\n",
       "      <td>Sul</td>\n",
       "    </tr>\n",
       "    <tr>\n",
       "      <th>5592</th>\n",
       "      <td>NaN</td>\n",
       "      <td>Sant'Ana do Livramento (RS)</td>\n",
       "      <td>84421.0</td>\n",
       "      <td>37350.0</td>\n",
       "      <td>RS</td>\n",
       "      <td>Sul</td>\n",
       "    </tr>\n",
       "    <tr>\n",
       "      <th>5593</th>\n",
       "      <td>NaN</td>\n",
       "      <td>Bom Jesus de Goias (GO)</td>\n",
       "      <td>23958.0</td>\n",
       "      <td>9982.0</td>\n",
       "      <td>GO</td>\n",
       "      <td>Centro Oeste</td>\n",
       "    </tr>\n",
       "  </tbody>\n",
       "</table>\n",
       "<p>5594 rows × 6 columns</p>\n",
       "</div>"
      ],
      "text/plain": [
       "                          nome                    Municipio  Populacao  \\\n",
       "885       Abadia de Goias (GO)         Abadia de Goias (GO)    19128.0   \n",
       "1901  Abadia dos Dourados (MG)     Abadia dos Dourados (MG)     6272.0   \n",
       "927             Abadiania (GO)               Abadiania (GO)    17228.0   \n",
       "1460               Abaete (MG)                  Abaete (MG)    22675.0   \n",
       "2408           Abaetetuba (PA)              Abaetetuba (PA)   158188.0   \n",
       "...                        ...                          ...        ...   \n",
       "5589                       NaN               Grao-Para (SC)     6277.0   \n",
       "5590                       NaN          Pescaria Brava (SC)    10190.0   \n",
       "5591                       NaN        Balneario Rincao (SC)    15981.0   \n",
       "5592                       NaN  Sant'Ana do Livramento (RS)    84421.0   \n",
       "5593                       NaN      Bom Jesus de Goias (GO)    23958.0   \n",
       "\n",
       "      Domicilios  UF        Regiao  \n",
       "885       7866.0  GO  Centro Oeste  \n",
       "1901      3477.0  MG       Sudeste  \n",
       "927      10301.0  GO  Centro Oeste  \n",
       "1460     12156.0  MG       Sudeste  \n",
       "2408     51416.0  PA         Norte  \n",
       "...          ...  ..           ...  \n",
       "5589      2669.0  SC           Sul  \n",
       "5590      4422.0  SC           Sul  \n",
       "5591     15712.0  SC           Sul  \n",
       "5592     37350.0  RS           Sul  \n",
       "5593      9982.0  GO  Centro Oeste  \n",
       "\n",
       "[5594 rows x 6 columns]"
      ]
     },
     "execution_count": 60,
     "metadata": {},
     "output_type": "execute_result"
    }
   ],
   "source": [
    "municipios_final.sort_values(by='nome', na_position='last', inplace=True)\n",
    "municipios_final"
   ]
  },
  {
   "cell_type": "code",
   "execution_count": 61,
   "id": "84db7db7",
   "metadata": {
    "scrolled": true
   },
   "outputs": [
    {
     "data": {
      "text/html": [
       "<div>\n",
       "<style scoped>\n",
       "    .dataframe tbody tr th:only-of-type {\n",
       "        vertical-align: middle;\n",
       "    }\n",
       "\n",
       "    .dataframe tbody tr th {\n",
       "        vertical-align: top;\n",
       "    }\n",
       "\n",
       "    .dataframe thead th {\n",
       "        text-align: right;\n",
       "    }\n",
       "</style>\n",
       "<table border=\"1\" class=\"dataframe\">\n",
       "  <thead>\n",
       "    <tr style=\"text-align: right;\">\n",
       "      <th></th>\n",
       "      <th>nome</th>\n",
       "      <th>Municipio</th>\n",
       "      <th>Populacao</th>\n",
       "      <th>Domicilios</th>\n",
       "      <th>UF</th>\n",
       "      <th>Regiao</th>\n",
       "    </tr>\n",
       "  </thead>\n",
       "  <tbody>\n",
       "    <tr>\n",
       "      <th>885</th>\n",
       "      <td>Abadia de Goias (GO)</td>\n",
       "      <td>Abadia de Goias (GO)</td>\n",
       "      <td>19128.0</td>\n",
       "      <td>7866.0</td>\n",
       "      <td>GO</td>\n",
       "      <td>Centro Oeste</td>\n",
       "    </tr>\n",
       "    <tr>\n",
       "      <th>1901</th>\n",
       "      <td>Abadia dos Dourados (MG)</td>\n",
       "      <td>Abadia dos Dourados (MG)</td>\n",
       "      <td>6272.0</td>\n",
       "      <td>3477.0</td>\n",
       "      <td>MG</td>\n",
       "      <td>Sudeste</td>\n",
       "    </tr>\n",
       "    <tr>\n",
       "      <th>927</th>\n",
       "      <td>Abadiania (GO)</td>\n",
       "      <td>Abadiania (GO)</td>\n",
       "      <td>17228.0</td>\n",
       "      <td>10301.0</td>\n",
       "      <td>GO</td>\n",
       "      <td>Centro Oeste</td>\n",
       "    </tr>\n",
       "    <tr>\n",
       "      <th>1460</th>\n",
       "      <td>Abaete (MG)</td>\n",
       "      <td>Abaete (MG)</td>\n",
       "      <td>22675.0</td>\n",
       "      <td>12156.0</td>\n",
       "      <td>MG</td>\n",
       "      <td>Sudeste</td>\n",
       "    </tr>\n",
       "    <tr>\n",
       "      <th>2408</th>\n",
       "      <td>Abaetetuba (PA)</td>\n",
       "      <td>Abaetetuba (PA)</td>\n",
       "      <td>158188.0</td>\n",
       "      <td>51416.0</td>\n",
       "      <td>PA</td>\n",
       "      <td>Norte</td>\n",
       "    </tr>\n",
       "    <tr>\n",
       "      <th>...</th>\n",
       "      <td>...</td>\n",
       "      <td>...</td>\n",
       "      <td>...</td>\n",
       "      <td>...</td>\n",
       "      <td>...</td>\n",
       "      <td>...</td>\n",
       "    </tr>\n",
       "    <tr>\n",
       "      <th>3913</th>\n",
       "      <td>Santana do Livramento (RS)</td>\n",
       "      <td>NaN</td>\n",
       "      <td>NaN</td>\n",
       "      <td>NaN</td>\n",
       "      <td>NaN</td>\n",
       "      <td>NaN</td>\n",
       "    </tr>\n",
       "    <tr>\n",
       "      <th>1325</th>\n",
       "      <td>Sao Thome das Letras (MG)</td>\n",
       "      <td>NaN</td>\n",
       "      <td>NaN</td>\n",
       "      <td>NaN</td>\n",
       "      <td>NaN</td>\n",
       "      <td>NaN</td>\n",
       "    </tr>\n",
       "    <tr>\n",
       "      <th>5474</th>\n",
       "      <td>Sao Valerio da Natividade (TO)</td>\n",
       "      <td>NaN</td>\n",
       "      <td>NaN</td>\n",
       "      <td>NaN</td>\n",
       "      <td>NaN</td>\n",
       "      <td>NaN</td>\n",
       "    </tr>\n",
       "    <tr>\n",
       "      <th>2140</th>\n",
       "      <td>Sem Peixe (MG)</td>\n",
       "      <td>NaN</td>\n",
       "      <td>NaN</td>\n",
       "      <td>NaN</td>\n",
       "      <td>NaN</td>\n",
       "      <td>NaN</td>\n",
       "    </tr>\n",
       "    <tr>\n",
       "      <th>1913</th>\n",
       "      <td>Silverania (MG)</td>\n",
       "      <td>NaN</td>\n",
       "      <td>NaN</td>\n",
       "      <td>NaN</td>\n",
       "      <td>NaN</td>\n",
       "      <td>NaN</td>\n",
       "    </tr>\n",
       "  </tbody>\n",
       "</table>\n",
       "<p>5594 rows × 6 columns</p>\n",
       "</div>"
      ],
      "text/plain": [
       "                                nome                 Municipio  Populacao  \\\n",
       "885             Abadia de Goias (GO)      Abadia de Goias (GO)    19128.0   \n",
       "1901        Abadia dos Dourados (MG)  Abadia dos Dourados (MG)     6272.0   \n",
       "927                   Abadiania (GO)            Abadiania (GO)    17228.0   \n",
       "1460                     Abaete (MG)               Abaete (MG)    22675.0   \n",
       "2408                 Abaetetuba (PA)           Abaetetuba (PA)   158188.0   \n",
       "...                              ...                       ...        ...   \n",
       "3913      Santana do Livramento (RS)                       NaN        NaN   \n",
       "1325       Sao Thome das Letras (MG)                       NaN        NaN   \n",
       "5474  Sao Valerio da Natividade (TO)                       NaN        NaN   \n",
       "2140                  Sem Peixe (MG)                       NaN        NaN   \n",
       "1913                 Silverania (MG)                       NaN        NaN   \n",
       "\n",
       "      Domicilios   UF        Regiao  \n",
       "885       7866.0   GO  Centro Oeste  \n",
       "1901      3477.0   MG       Sudeste  \n",
       "927      10301.0   GO  Centro Oeste  \n",
       "1460     12156.0   MG       Sudeste  \n",
       "2408     51416.0   PA         Norte  \n",
       "...          ...  ...           ...  \n",
       "3913         NaN  NaN           NaN  \n",
       "1325         NaN  NaN           NaN  \n",
       "5474         NaN  NaN           NaN  \n",
       "2140         NaN  NaN           NaN  \n",
       "1913         NaN  NaN           NaN  \n",
       "\n",
       "[5594 rows x 6 columns]"
      ]
     },
     "execution_count": 61,
     "metadata": {},
     "output_type": "execute_result"
    }
   ],
   "source": [
    "municipios_final.sort_values(by='Municipio', na_position='last', inplace=True)\n",
    "municipios_final"
   ]
  },
  {
   "cell_type": "code",
   "execution_count": 62,
   "id": "8aad577a",
   "metadata": {},
   "outputs": [
    {
     "name": "stderr",
     "output_type": "stream",
     "text": [
      "C:\\Users\\Carlos\\AppData\\Local\\Temp\\ipykernel_18048\\3147543050.py:1: FutureWarning: The default value of regex will change from True to False in a future version.\n",
      "  df_aneel['municipiouf'] = df_aneel['municipiouf'].str.replace(\"Amparo da Serra \\(MG\\)\", \"Amparo do Serra (MG)\")\n"
     ]
    }
   ],
   "source": [
    "df_aneel['municipiouf'] = df_aneel['municipiouf'].str.replace(\"Amparo da Serra \\(MG\\)\", \"Amparo do Serra (MG)\")"
   ]
  },
  {
   "cell_type": "code",
   "execution_count": 63,
   "id": "573fc32b",
   "metadata": {},
   "outputs": [
    {
     "name": "stderr",
     "output_type": "stream",
     "text": [
      "C:\\Users\\Carlos\\AppData\\Local\\Temp\\ipykernel_18048\\2356636735.py:1: FutureWarning: The default value of regex will change from True to False in a future version.\n",
      "  df_aneel['municipiouf'] = df_aneel['municipiouf'].str.replace(\"Amparo de Sao Francisco \\(SE\\)\", \"Amparo do Sao Francisco (SE)\")\n"
     ]
    }
   ],
   "source": [
    "df_aneel['municipiouf'] = df_aneel['municipiouf'].str.replace(\"Amparo de Sao Francisco \\(SE\\)\", \"Amparo do Sao Francisco (SE)\")"
   ]
  },
  {
   "cell_type": "code",
   "execution_count": 64,
   "id": "61962214",
   "metadata": {},
   "outputs": [
    {
     "name": "stderr",
     "output_type": "stream",
     "text": [
      "C:\\Users\\Carlos\\AppData\\Local\\Temp\\ipykernel_18048\\3619003071.py:1: FutureWarning: The default value of regex will change from True to False in a future version.\n",
      "  df_aneel['municipiouf'] = df_aneel['municipiouf'].str.replace(\"Arez \\(RN\\)\", \"Ares (RN)\")\n"
     ]
    }
   ],
   "source": [
    "df_aneel['municipiouf'] = df_aneel['municipiouf'].str.replace(\"Arez \\(RN\\)\", \"Ares (RN)\")"
   ]
  },
  {
   "cell_type": "code",
   "execution_count": 65,
   "id": "0f7397f8",
   "metadata": {},
   "outputs": [
    {
     "name": "stderr",
     "output_type": "stream",
     "text": [
      "C:\\Users\\Carlos\\AppData\\Local\\Temp\\ipykernel_18048\\1499363681.py:1: FutureWarning: The default value of regex will change from True to False in a future version.\n",
      "  df_aneel['municipiouf'] = df_aneel['municipiouf'].str.replace(\"Biritiba-Mirim \\(SP\\)\", \"Biritiba Mirim (SP)\")\n"
     ]
    }
   ],
   "source": [
    "df_aneel['municipiouf'] = df_aneel['municipiouf'].str.replace(\"Biritiba-Mirim \\(SP\\)\", \"Biritiba Mirim (SP)\")"
   ]
  },
  {
   "cell_type": "code",
   "execution_count": 66,
   "id": "4df8d66c",
   "metadata": {},
   "outputs": [
    {
     "name": "stderr",
     "output_type": "stream",
     "text": [
      "C:\\Users\\Carlos\\AppData\\Local\\Temp\\ipykernel_18048\\3117309658.py:1: FutureWarning: The default value of regex will change from True to False in a future version.\n",
      "  df_aneel['municipiouf'] = df_aneel['municipiouf'].str.replace(\"Boa Saude \\(RN\\)\", \"Januario Cicco (RN)\")\n"
     ]
    }
   ],
   "source": [
    "df_aneel['municipiouf'] = df_aneel['municipiouf'].str.replace(\"Boa Saude \\(RN\\)\", \"Januario Cicco (RN)\")"
   ]
  },
  {
   "cell_type": "code",
   "execution_count": 67,
   "id": "f40671cc",
   "metadata": {},
   "outputs": [
    {
     "name": "stderr",
     "output_type": "stream",
     "text": [
      "C:\\Users\\Carlos\\AppData\\Local\\Temp\\ipykernel_18048\\883898132.py:1: FutureWarning: The default value of regex will change from True to False in a future version.\n",
      "  df_aneel['municipiouf'] = df_aneel['municipiouf'].str.replace(\"Bom Jesus \\(GO\\)\", \"Bom Jesus de Goias (GO)\")\n"
     ]
    }
   ],
   "source": [
    "df_aneel['municipiouf'] = df_aneel['municipiouf'].str.replace(\"Bom Jesus \\(GO\\)\", \"Bom Jesus de Goias (GO)\")"
   ]
  },
  {
   "cell_type": "code",
   "execution_count": 68,
   "id": "e8baf1de",
   "metadata": {},
   "outputs": [
    {
     "name": "stderr",
     "output_type": "stream",
     "text": [
      "C:\\Users\\Carlos\\AppData\\Local\\Temp\\ipykernel_18048\\870595517.py:1: FutureWarning: The default value of regex will change from True to False in a future version.\n",
      "  df_aneel['municipiouf'] = df_aneel['municipiouf'].str.replace(\"Couto de Magalhaes \\(TO\\)\", \"Couto Magalhaes (TO)\")\n"
     ]
    }
   ],
   "source": [
    "df_aneel['municipiouf'] = df_aneel['municipiouf'].str.replace(\"Couto de Magalhaes \\(TO\\)\", \"Couto Magalhaes (TO)\")"
   ]
  },
  {
   "cell_type": "code",
   "execution_count": 69,
   "id": "7bb7644a",
   "metadata": {},
   "outputs": [
    {
     "name": "stderr",
     "output_type": "stream",
     "text": [
      "C:\\Users\\Carlos\\AppData\\Local\\Temp\\ipykernel_18048\\2781604260.py:1: FutureWarning: The default value of regex will change from True to False in a future version.\n",
      "  df_aneel['municipiouf'] = df_aneel['municipiouf'].str.replace(\"Eldorado dos Carajas \\(PA\\)\", \"Eldorado do Carajas (PA)\")\n"
     ]
    }
   ],
   "source": [
    "df_aneel['municipiouf'] = df_aneel['municipiouf'].str.replace(\"Eldorado dos Carajas \\(PA\\)\", \"Eldorado do Carajas (PA)\")"
   ]
  },
  {
   "cell_type": "code",
   "execution_count": 70,
   "id": "195c457e",
   "metadata": {},
   "outputs": [
    {
     "name": "stderr",
     "output_type": "stream",
     "text": [
      "C:\\Users\\Carlos\\AppData\\Local\\Temp\\ipykernel_18048\\3661105652.py:1: FutureWarning: The default value of regex will change from True to False in a future version.\n",
      "  df_aneel['municipiouf'] = df_aneel['municipiouf'].str.replace(\"Graccho Cardoso \\(SE\\)\", \"Gracho Cardoso (SE)\")\n"
     ]
    }
   ],
   "source": [
    "df_aneel['municipiouf'] = df_aneel['municipiouf'].str.replace(\"Graccho Cardoso \\(SE\\)\", \"Gracho Cardoso (SE)\")"
   ]
  },
  {
   "cell_type": "code",
   "execution_count": 71,
   "id": "35b3826f",
   "metadata": {},
   "outputs": [
    {
     "name": "stderr",
     "output_type": "stream",
     "text": [
      "C:\\Users\\Carlos\\AppData\\Local\\Temp\\ipykernel_18048\\1726073995.py:1: FutureWarning: The default value of regex will change from True to False in a future version.\n",
      "  df_aneel['municipiouf'] = df_aneel['municipiouf'].str.replace(\"Grao Para \\(SC\\)\", \"Grao-Para (SC)\")\n"
     ]
    }
   ],
   "source": [
    "df_aneel['municipiouf'] = df_aneel['municipiouf'].str.replace(\"Grao Para \\(SC\\)\", \"Grao-Para (SC)\")"
   ]
  },
  {
   "cell_type": "code",
   "execution_count": 72,
   "id": "c188e93b",
   "metadata": {},
   "outputs": [
    {
     "name": "stderr",
     "output_type": "stream",
     "text": [
      "C:\\Users\\Carlos\\AppData\\Local\\Temp\\ipykernel_18048\\92216801.py:1: FutureWarning: The default value of regex will change from True to False in a future version.\n",
      "  df_aneel['municipiouf'] = df_aneel['municipiouf'].str.replace(\"Iguaraci \\(PE\\)\", \"Iguaracy (PE)\")\n"
     ]
    }
   ],
   "source": [
    "df_aneel['municipiouf'] = df_aneel['municipiouf'].str.replace(\"Iguaraci \\(PE\\)\", \"Iguaracy (PE)\")"
   ]
  },
  {
   "cell_type": "code",
   "execution_count": 73,
   "id": "68486a1b",
   "metadata": {},
   "outputs": [
    {
     "name": "stderr",
     "output_type": "stream",
     "text": [
      "C:\\Users\\Carlos\\AppData\\Local\\Temp\\ipykernel_18048\\13057743.py:1: FutureWarning: The default value of regex will change from True to False in a future version.\n",
      "  df_aneel['municipiouf'] = df_aneel['municipiouf'].str.replace(\"Lagoa do Itaenga \\(PE\\)\", \"Lagoa de Itaenga (PE)\")\n"
     ]
    }
   ],
   "source": [
    "df_aneel['municipiouf'] = df_aneel['municipiouf'].str.replace(\"Lagoa do Itaenga \\(PE\\)\", \"Lagoa de Itaenga (PE)\")"
   ]
  },
  {
   "cell_type": "code",
   "execution_count": 74,
   "id": "10d9a49b",
   "metadata": {},
   "outputs": [
    {
     "name": "stderr",
     "output_type": "stream",
     "text": [
      "C:\\Users\\Carlos\\AppData\\Local\\Temp\\ipykernel_18048\\1398161310.py:1: FutureWarning: The default value of regex will change from True to False in a future version.\n",
      "  df_aneel['municipiouf'] = df_aneel['municipiouf'].str.replace(\"Muquem de Sao Francisco \\(BA\\)\", \"Muquem do Sao Francisco (BA)\")\n"
     ]
    }
   ],
   "source": [
    "df_aneel['municipiouf'] = df_aneel['municipiouf'].str.replace(\"Muquem de Sao Francisco \\(BA\\)\", \"Muquem do Sao Francisco (BA)\")"
   ]
  },
  {
   "cell_type": "code",
   "execution_count": 75,
   "id": "700fe752",
   "metadata": {},
   "outputs": [
    {
     "name": "stderr",
     "output_type": "stream",
     "text": [
      "C:\\Users\\Carlos\\AppData\\Local\\Temp\\ipykernel_18048\\50318477.py:1: FutureWarning: The default value of regex will change from True to False in a future version.\n",
      "  df_aneel['municipiouf'] = df_aneel['municipiouf'].str.replace(\"Olho-d'Agua do Borges \\(RN\\)\", \"Olho d'Agua do Borges (RN)\")\n"
     ]
    }
   ],
   "source": [
    "df_aneel['municipiouf'] = df_aneel['municipiouf'].str.replace(\"Olho-d'Agua do Borges \\(RN\\)\", \"Olho d'Agua do Borges (RN)\")"
   ]
  },
  {
   "cell_type": "code",
   "execution_count": 76,
   "id": "487e085c",
   "metadata": {},
   "outputs": [
    {
     "name": "stderr",
     "output_type": "stream",
     "text": [
      "C:\\Users\\Carlos\\AppData\\Local\\Temp\\ipykernel_18048\\1921182793.py:1: FutureWarning: The default value of regex will change from True to False in a future version.\n",
      "  df_aneel['municipiouf'] = df_aneel['municipiouf'].str.replace(\"Olhos d'Agua \\(MG\\)\", \"Olhos-d'Agua (MG)\")\n"
     ]
    }
   ],
   "source": [
    "df_aneel['municipiouf'] = df_aneel['municipiouf'].str.replace(\"Olhos d'Agua \\(MG\\)\", \"Olhos-d'Agua (MG)\")"
   ]
  },
  {
   "cell_type": "code",
   "execution_count": 77,
   "id": "43f3c79e",
   "metadata": {},
   "outputs": [
    {
     "name": "stderr",
     "output_type": "stream",
     "text": [
      "C:\\Users\\Carlos\\AppData\\Local\\Temp\\ipykernel_18048\\2069173247.py:1: FutureWarning: The default value of regex will change from True to False in a future version.\n",
      "  df_aneel['municipiouf'] = df_aneel['municipiouf'].str.replace(\"Pindare Mirim \\(MA\\)\", \"Pindare-Mirim (MA)\")\n"
     ]
    }
   ],
   "source": [
    "df_aneel['municipiouf'] = df_aneel['municipiouf'].str.replace(\"Pindare Mirim \\(MA\\)\", \"Pindare-Mirim (MA)\")"
   ]
  },
  {
   "cell_type": "code",
   "execution_count": 78,
   "id": "25d0bd70",
   "metadata": {},
   "outputs": [
    {
     "name": "stderr",
     "output_type": "stream",
     "text": [
      "C:\\Users\\Carlos\\AppData\\Local\\Temp\\ipykernel_18048\\900202196.py:1: FutureWarning: The default value of regex will change from True to False in a future version.\n",
      "  df_aneel['municipiouf'] = df_aneel['municipiouf'].str.replace(\"Santa Isabel do Para \\(PA\\)\", \"Santa Izabel do Para (PA)\")\n"
     ]
    }
   ],
   "source": [
    "df_aneel['municipiouf'] = df_aneel['municipiouf'].str.replace(\"Santa Isabel do Para \\(PA\\)\", \"Santa Izabel do Para (PA)\")"
   ]
  },
  {
   "cell_type": "code",
   "execution_count": 79,
   "id": "257f6b6c",
   "metadata": {},
   "outputs": [
    {
     "name": "stderr",
     "output_type": "stream",
     "text": [
      "C:\\Users\\Carlos\\AppData\\Local\\Temp\\ipykernel_18048\\4096808129.py:1: FutureWarning: The default value of regex will change from True to False in a future version.\n",
      "  df_aneel['municipiouf'] = df_aneel['municipiouf'].str.replace(\"Santa Rita do Ibitipoca \\(MG\\)\", \"Santa Rita de Ibitipoca (MG)\")\n"
     ]
    }
   ],
   "source": [
    "df_aneel['municipiouf'] = df_aneel['municipiouf'].str.replace(\"Santa Rita do Ibitipoca \\(MG\\)\", \"Santa Rita de Ibitipoca (MG)\")"
   ]
  },
  {
   "cell_type": "code",
   "execution_count": 80,
   "id": "991b4042",
   "metadata": {},
   "outputs": [
    {
     "name": "stderr",
     "output_type": "stream",
     "text": [
      "C:\\Users\\Carlos\\AppData\\Local\\Temp\\ipykernel_18048\\50515394.py:1: FutureWarning: The default value of regex will change from True to False in a future version.\n",
      "  df_aneel['municipiouf'] = df_aneel['municipiouf'].str.replace(\"Santa Teresinha \\(BA\\)\", \"Santa Terezinha (BA)\")\n"
     ]
    }
   ],
   "source": [
    "df_aneel['municipiouf'] = df_aneel['municipiouf'].str.replace(\"Santa Teresinha \\(BA\\)\", \"Santa Terezinha (BA)\")"
   ]
  },
  {
   "cell_type": "code",
   "execution_count": 81,
   "id": "b4f7193f",
   "metadata": {},
   "outputs": [
    {
     "name": "stderr",
     "output_type": "stream",
     "text": [
      "C:\\Users\\Carlos\\AppData\\Local\\Temp\\ipykernel_18048\\29715431.py:1: FutureWarning: The default value of regex will change from True to False in a future version.\n",
      "  df_aneel['municipiouf'] = df_aneel['municipiouf'].str.replace(\"Santana do Livramento \\(RS\\)\", \"Sant'Ana do Livramento (RS)\")\n"
     ]
    }
   ],
   "source": [
    "df_aneel['municipiouf'] = df_aneel['municipiouf'].str.replace(\"Santana do Livramento \\(RS\\)\", \"Sant'Ana do Livramento (RS)\")"
   ]
  },
  {
   "cell_type": "code",
   "execution_count": 82,
   "id": "aacb007b",
   "metadata": {},
   "outputs": [
    {
     "name": "stderr",
     "output_type": "stream",
     "text": [
      "C:\\Users\\Carlos\\AppData\\Local\\Temp\\ipykernel_18048\\329683094.py:1: FutureWarning: The default value of regex will change from True to False in a future version.\n",
      "  df_aneel['municipiouf'] = df_aneel['municipiouf'].str.replace(\"Sao Thome das Letras \\(MG\\)\", \"Sao Tome das Letras (MG)\")\n"
     ]
    }
   ],
   "source": [
    "df_aneel['municipiouf'] = df_aneel['municipiouf'].str.replace(\"Sao Thome das Letras \\(MG\\)\", \"Sao Tome das Letras (MG)\")"
   ]
  },
  {
   "cell_type": "code",
   "execution_count": 83,
   "id": "51f256e9",
   "metadata": {},
   "outputs": [
    {
     "name": "stderr",
     "output_type": "stream",
     "text": [
      "C:\\Users\\Carlos\\AppData\\Local\\Temp\\ipykernel_18048\\1173815682.py:1: FutureWarning: The default value of regex will change from True to False in a future version.\n",
      "  df_aneel['municipiouf'] = df_aneel['municipiouf'].str.replace(\"Sao Valerio da Natividade \\(TO\\)\", \"Sao Valerio (TO)\")\n"
     ]
    }
   ],
   "source": [
    "df_aneel['municipiouf'] = df_aneel['municipiouf'].str.replace(\"Sao Valerio da Natividade \\(TO\\)\", \"Sao Valerio (TO)\")"
   ]
  },
  {
   "cell_type": "code",
   "execution_count": 84,
   "id": "95933e70",
   "metadata": {},
   "outputs": [
    {
     "name": "stderr",
     "output_type": "stream",
     "text": [
      "C:\\Users\\Carlos\\AppData\\Local\\Temp\\ipykernel_18048\\1484493461.py:1: FutureWarning: The default value of regex will change from True to False in a future version.\n",
      "  df_aneel['municipiouf'] = df_aneel['municipiouf'].str.replace(\"Sem Peixe \\(MG\\)\", \"Sem-Peixe (MG)\")\n"
     ]
    }
   ],
   "source": [
    "df_aneel['municipiouf'] = df_aneel['municipiouf'].str.replace(\"Sem Peixe \\(MG\\)\", \"Sem-Peixe (MG)\")"
   ]
  },
  {
   "cell_type": "code",
   "execution_count": 85,
   "id": "06e31c75",
   "metadata": {
    "scrolled": false
   },
   "outputs": [
    {
     "name": "stderr",
     "output_type": "stream",
     "text": [
      "C:\\Users\\Carlos\\AppData\\Local\\Temp\\ipykernel_18048\\4258475295.py:1: FutureWarning: The default value of regex will change from True to False in a future version.\n",
      "  df_aneel['municipiouf'] = df_aneel['municipiouf'].str.replace(\"Silverania \\(MG\\)\", \"Silveirania (MG)\")\n"
     ]
    }
   ],
   "source": [
    "df_aneel['municipiouf'] = df_aneel['municipiouf'].str.replace(\"Silverania \\(MG\\)\", \"Silveirania (MG)\")"
   ]
  },
  {
   "cell_type": "code",
   "execution_count": 86,
   "id": "75bbe64b",
   "metadata": {},
   "outputs": [
    {
     "data": {
      "text/plain": [
       "array(['Nova Granada (SP)', 'Rio Branco (AC)', 'Tarauaca (AC)', ...,\n",
       "       'Juarina (TO)', 'Centenario (TO)', 'Chapada de Areia (TO)'],\n",
       "      dtype=object)"
      ]
     },
     "execution_count": 86,
     "metadata": {},
     "output_type": "execute_result"
    }
   ],
   "source": [
    "lista_municipios_aneel_format = df_aneel['municipiouf'].unique()\n",
    "lista_municipios_aneel_format"
   ]
  },
  {
   "cell_type": "code",
   "execution_count": 87,
   "id": "fce0cbd8",
   "metadata": {},
   "outputs": [
    {
     "data": {
      "text/html": [
       "<div>\n",
       "<style scoped>\n",
       "    .dataframe tbody tr th:only-of-type {\n",
       "        vertical-align: middle;\n",
       "    }\n",
       "\n",
       "    .dataframe tbody tr th {\n",
       "        vertical-align: top;\n",
       "    }\n",
       "\n",
       "    .dataframe thead th {\n",
       "        text-align: right;\n",
       "    }\n",
       "</style>\n",
       "<table border=\"1\" class=\"dataframe\">\n",
       "  <thead>\n",
       "    <tr style=\"text-align: right;\">\n",
       "      <th></th>\n",
       "      <th>nome</th>\n",
       "    </tr>\n",
       "  </thead>\n",
       "  <tbody>\n",
       "    <tr>\n",
       "      <th>0</th>\n",
       "      <td>Nova Granada (SP)</td>\n",
       "    </tr>\n",
       "    <tr>\n",
       "      <th>1</th>\n",
       "      <td>Rio Branco (AC)</td>\n",
       "    </tr>\n",
       "    <tr>\n",
       "      <th>2</th>\n",
       "      <td>Tarauaca (AC)</td>\n",
       "    </tr>\n",
       "    <tr>\n",
       "      <th>3</th>\n",
       "      <td>Senador Guiomard (AC)</td>\n",
       "    </tr>\n",
       "    <tr>\n",
       "      <th>4</th>\n",
       "      <td>Brasileia (AC)</td>\n",
       "    </tr>\n",
       "    <tr>\n",
       "      <th>...</th>\n",
       "      <td>...</td>\n",
       "    </tr>\n",
       "    <tr>\n",
       "      <th>5527</th>\n",
       "      <td>Sao Bento do Tocantins (TO)</td>\n",
       "    </tr>\n",
       "    <tr>\n",
       "      <th>5528</th>\n",
       "      <td>Itapora do Tocantins (TO)</td>\n",
       "    </tr>\n",
       "    <tr>\n",
       "      <th>5529</th>\n",
       "      <td>Juarina (TO)</td>\n",
       "    </tr>\n",
       "    <tr>\n",
       "      <th>5530</th>\n",
       "      <td>Centenario (TO)</td>\n",
       "    </tr>\n",
       "    <tr>\n",
       "      <th>5531</th>\n",
       "      <td>Chapada de Areia (TO)</td>\n",
       "    </tr>\n",
       "  </tbody>\n",
       "</table>\n",
       "<p>5532 rows × 1 columns</p>\n",
       "</div>"
      ],
      "text/plain": [
       "                             nome\n",
       "0               Nova Granada (SP)\n",
       "1                 Rio Branco (AC)\n",
       "2                   Tarauaca (AC)\n",
       "3           Senador Guiomard (AC)\n",
       "4                  Brasileia (AC)\n",
       "...                           ...\n",
       "5527  Sao Bento do Tocantins (TO)\n",
       "5528    Itapora do Tocantins (TO)\n",
       "5529                 Juarina (TO)\n",
       "5530              Centenario (TO)\n",
       "5531        Chapada de Areia (TO)\n",
       "\n",
       "[5532 rows x 1 columns]"
      ]
     },
     "execution_count": 87,
     "metadata": {},
     "output_type": "execute_result"
    }
   ],
   "source": [
    "df_municipio_aneel_format = pd.DataFrame({'nome': lista_municipios_aneel_format})\n",
    "df_municipio_aneel_format"
   ]
  },
  {
   "cell_type": "code",
   "execution_count": 88,
   "id": "a0ed4d98",
   "metadata": {},
   "outputs": [],
   "source": [
    "municipios_join_format = df_ibge['Municipio'].isin(df_municipio_aneel_format['nome'])"
   ]
  },
  {
   "cell_type": "code",
   "execution_count": 89,
   "id": "321a3805",
   "metadata": {
    "scrolled": true
   },
   "outputs": [
    {
     "data": {
      "text/plain": [
       "count     5570\n",
       "unique       2\n",
       "top       True\n",
       "freq      5532\n",
       "Name: Municipio, dtype: object"
      ]
     },
     "execution_count": 89,
     "metadata": {},
     "output_type": "execute_result"
    }
   ],
   "source": [
    "municipios_join_format.describe()"
   ]
  },
  {
   "cell_type": "code",
   "execution_count": 90,
   "id": "1a7f32f2",
   "metadata": {},
   "outputs": [],
   "source": [
    "municipios_final2 = df_municipio_aneel_format.merge(df_ibge, left_on='nome', right_on='Municipio',how='outer')"
   ]
  },
  {
   "cell_type": "code",
   "execution_count": 91,
   "id": "2bed059d",
   "metadata": {},
   "outputs": [
    {
     "data": {
      "text/html": [
       "<div>\n",
       "<style scoped>\n",
       "    .dataframe tbody tr th:only-of-type {\n",
       "        vertical-align: middle;\n",
       "    }\n",
       "\n",
       "    .dataframe tbody tr th {\n",
       "        vertical-align: top;\n",
       "    }\n",
       "\n",
       "    .dataframe thead th {\n",
       "        text-align: right;\n",
       "    }\n",
       "</style>\n",
       "<table border=\"1\" class=\"dataframe\">\n",
       "  <thead>\n",
       "    <tr style=\"text-align: right;\">\n",
       "      <th></th>\n",
       "      <th>nome</th>\n",
       "      <th>Municipio</th>\n",
       "      <th>Populacao</th>\n",
       "      <th>Domicilios</th>\n",
       "      <th>UF</th>\n",
       "      <th>Regiao</th>\n",
       "    </tr>\n",
       "  </thead>\n",
       "  <tbody>\n",
       "    <tr>\n",
       "      <th>885</th>\n",
       "      <td>Abadia de Goias (GO)</td>\n",
       "      <td>Abadia de Goias (GO)</td>\n",
       "      <td>19128</td>\n",
       "      <td>7866</td>\n",
       "      <td>GO</td>\n",
       "      <td>Centro Oeste</td>\n",
       "    </tr>\n",
       "    <tr>\n",
       "      <th>1901</th>\n",
       "      <td>Abadia dos Dourados (MG)</td>\n",
       "      <td>Abadia dos Dourados (MG)</td>\n",
       "      <td>6272</td>\n",
       "      <td>3477</td>\n",
       "      <td>MG</td>\n",
       "      <td>Sudeste</td>\n",
       "    </tr>\n",
       "    <tr>\n",
       "      <th>927</th>\n",
       "      <td>Abadiania (GO)</td>\n",
       "      <td>Abadiania (GO)</td>\n",
       "      <td>17228</td>\n",
       "      <td>10301</td>\n",
       "      <td>GO</td>\n",
       "      <td>Centro Oeste</td>\n",
       "    </tr>\n",
       "    <tr>\n",
       "      <th>1460</th>\n",
       "      <td>Abaete (MG)</td>\n",
       "      <td>Abaete (MG)</td>\n",
       "      <td>22675</td>\n",
       "      <td>12156</td>\n",
       "      <td>MG</td>\n",
       "      <td>Sudeste</td>\n",
       "    </tr>\n",
       "    <tr>\n",
       "      <th>2408</th>\n",
       "      <td>Abaetetuba (PA)</td>\n",
       "      <td>Abaetetuba (PA)</td>\n",
       "      <td>158188</td>\n",
       "      <td>51416</td>\n",
       "      <td>PA</td>\n",
       "      <td>Norte</td>\n",
       "    </tr>\n",
       "    <tr>\n",
       "      <th>...</th>\n",
       "      <td>...</td>\n",
       "      <td>...</td>\n",
       "      <td>...</td>\n",
       "      <td>...</td>\n",
       "      <td>...</td>\n",
       "      <td>...</td>\n",
       "    </tr>\n",
       "    <tr>\n",
       "      <th>5565</th>\n",
       "      <td>NaN</td>\n",
       "      <td>Nazaria (PI)</td>\n",
       "      <td>10262</td>\n",
       "      <td>4974</td>\n",
       "      <td>PI</td>\n",
       "      <td>Nordeste</td>\n",
       "    </tr>\n",
       "    <tr>\n",
       "      <th>5566</th>\n",
       "      <td>NaN</td>\n",
       "      <td>Pau d'Arco do Piaui (PI)</td>\n",
       "      <td>3880</td>\n",
       "      <td>1908</td>\n",
       "      <td>PI</td>\n",
       "      <td>Nordeste</td>\n",
       "    </tr>\n",
       "    <tr>\n",
       "      <th>5567</th>\n",
       "      <td>NaN</td>\n",
       "      <td>Areia de Baraunas (PB)</td>\n",
       "      <td>2005</td>\n",
       "      <td>932</td>\n",
       "      <td>PB</td>\n",
       "      <td>Nordeste</td>\n",
       "    </tr>\n",
       "    <tr>\n",
       "      <th>5568</th>\n",
       "      <td>NaN</td>\n",
       "      <td>Pescaria Brava (SC)</td>\n",
       "      <td>10190</td>\n",
       "      <td>4422</td>\n",
       "      <td>SC</td>\n",
       "      <td>Sul</td>\n",
       "    </tr>\n",
       "    <tr>\n",
       "      <th>5569</th>\n",
       "      <td>NaN</td>\n",
       "      <td>Balneario Rincao (SC)</td>\n",
       "      <td>15981</td>\n",
       "      <td>15712</td>\n",
       "      <td>SC</td>\n",
       "      <td>Sul</td>\n",
       "    </tr>\n",
       "  </tbody>\n",
       "</table>\n",
       "<p>5570 rows × 6 columns</p>\n",
       "</div>"
      ],
      "text/plain": [
       "                          nome                 Municipio  Populacao  \\\n",
       "885       Abadia de Goias (GO)      Abadia de Goias (GO)      19128   \n",
       "1901  Abadia dos Dourados (MG)  Abadia dos Dourados (MG)       6272   \n",
       "927             Abadiania (GO)            Abadiania (GO)      17228   \n",
       "1460               Abaete (MG)               Abaete (MG)      22675   \n",
       "2408           Abaetetuba (PA)           Abaetetuba (PA)     158188   \n",
       "...                        ...                       ...        ...   \n",
       "5565                       NaN              Nazaria (PI)      10262   \n",
       "5566                       NaN  Pau d'Arco do Piaui (PI)       3880   \n",
       "5567                       NaN    Areia de Baraunas (PB)       2005   \n",
       "5568                       NaN       Pescaria Brava (SC)      10190   \n",
       "5569                       NaN     Balneario Rincao (SC)      15981   \n",
       "\n",
       "      Domicilios  UF        Regiao  \n",
       "885         7866  GO  Centro Oeste  \n",
       "1901        3477  MG       Sudeste  \n",
       "927        10301  GO  Centro Oeste  \n",
       "1460       12156  MG       Sudeste  \n",
       "2408       51416  PA         Norte  \n",
       "...          ...  ..           ...  \n",
       "5565        4974  PI      Nordeste  \n",
       "5566        1908  PI      Nordeste  \n",
       "5567         932  PB      Nordeste  \n",
       "5568        4422  SC           Sul  \n",
       "5569       15712  SC           Sul  \n",
       "\n",
       "[5570 rows x 6 columns]"
      ]
     },
     "execution_count": 91,
     "metadata": {},
     "output_type": "execute_result"
    }
   ],
   "source": [
    "municipios_final2.sort_values(by='nome', na_position='last', inplace=True)\n",
    "municipios_final2"
   ]
  },
  {
   "cell_type": "code",
   "execution_count": 92,
   "id": "7afd8a0e",
   "metadata": {},
   "outputs": [
    {
     "data": {
      "text/html": [
       "<div>\n",
       "<style scoped>\n",
       "    .dataframe tbody tr th:only-of-type {\n",
       "        vertical-align: middle;\n",
       "    }\n",
       "\n",
       "    .dataframe tbody tr th {\n",
       "        vertical-align: top;\n",
       "    }\n",
       "\n",
       "    .dataframe thead th {\n",
       "        text-align: right;\n",
       "    }\n",
       "</style>\n",
       "<table border=\"1\" class=\"dataframe\">\n",
       "  <thead>\n",
       "    <tr style=\"text-align: right;\">\n",
       "      <th></th>\n",
       "      <th>nome</th>\n",
       "      <th>Municipio</th>\n",
       "      <th>Populacao</th>\n",
       "      <th>Domicilios</th>\n",
       "      <th>UF</th>\n",
       "      <th>Regiao</th>\n",
       "    </tr>\n",
       "  </thead>\n",
       "  <tbody>\n",
       "    <tr>\n",
       "      <th>885</th>\n",
       "      <td>Abadia de Goias (GO)</td>\n",
       "      <td>Abadia de Goias (GO)</td>\n",
       "      <td>19128</td>\n",
       "      <td>7866</td>\n",
       "      <td>GO</td>\n",
       "      <td>Centro Oeste</td>\n",
       "    </tr>\n",
       "    <tr>\n",
       "      <th>1901</th>\n",
       "      <td>Abadia dos Dourados (MG)</td>\n",
       "      <td>Abadia dos Dourados (MG)</td>\n",
       "      <td>6272</td>\n",
       "      <td>3477</td>\n",
       "      <td>MG</td>\n",
       "      <td>Sudeste</td>\n",
       "    </tr>\n",
       "    <tr>\n",
       "      <th>927</th>\n",
       "      <td>Abadiania (GO)</td>\n",
       "      <td>Abadiania (GO)</td>\n",
       "      <td>17228</td>\n",
       "      <td>10301</td>\n",
       "      <td>GO</td>\n",
       "      <td>Centro Oeste</td>\n",
       "    </tr>\n",
       "    <tr>\n",
       "      <th>1460</th>\n",
       "      <td>Abaete (MG)</td>\n",
       "      <td>Abaete (MG)</td>\n",
       "      <td>22675</td>\n",
       "      <td>12156</td>\n",
       "      <td>MG</td>\n",
       "      <td>Sudeste</td>\n",
       "    </tr>\n",
       "    <tr>\n",
       "      <th>2408</th>\n",
       "      <td>Abaetetuba (PA)</td>\n",
       "      <td>Abaetetuba (PA)</td>\n",
       "      <td>158188</td>\n",
       "      <td>51416</td>\n",
       "      <td>PA</td>\n",
       "      <td>Norte</td>\n",
       "    </tr>\n",
       "    <tr>\n",
       "      <th>...</th>\n",
       "      <td>...</td>\n",
       "      <td>...</td>\n",
       "      <td>...</td>\n",
       "      <td>...</td>\n",
       "      <td>...</td>\n",
       "      <td>...</td>\n",
       "    </tr>\n",
       "    <tr>\n",
       "      <th>257</th>\n",
       "      <td>Xique-Xique (BA)</td>\n",
       "      <td>Xique-Xique (BA)</td>\n",
       "      <td>44757</td>\n",
       "      <td>18031</td>\n",
       "      <td>BA</td>\n",
       "      <td>Nordeste</td>\n",
       "    </tr>\n",
       "    <tr>\n",
       "      <th>2633</th>\n",
       "      <td>Zabele (PB)</td>\n",
       "      <td>Zabele (PB)</td>\n",
       "      <td>2228</td>\n",
       "      <td>1283</td>\n",
       "      <td>PB</td>\n",
       "      <td>Nordeste</td>\n",
       "    </tr>\n",
       "    <tr>\n",
       "      <th>5229</th>\n",
       "      <td>Zacarias (SP)</td>\n",
       "      <td>Zacarias (SP)</td>\n",
       "      <td>2692</td>\n",
       "      <td>1617</td>\n",
       "      <td>SP</td>\n",
       "      <td>Sudeste</td>\n",
       "    </tr>\n",
       "    <tr>\n",
       "      <th>1212</th>\n",
       "      <td>Ze Doca (MA)</td>\n",
       "      <td>Ze Doca (MA)</td>\n",
       "      <td>40801</td>\n",
       "      <td>16234</td>\n",
       "      <td>MA</td>\n",
       "      <td>Nordeste</td>\n",
       "    </tr>\n",
       "    <tr>\n",
       "      <th>4630</th>\n",
       "      <td>Zortea (SC)</td>\n",
       "      <td>Zortea (SC)</td>\n",
       "      <td>3930</td>\n",
       "      <td>1770</td>\n",
       "      <td>SC</td>\n",
       "      <td>Sul</td>\n",
       "    </tr>\n",
       "  </tbody>\n",
       "</table>\n",
       "<p>5570 rows × 6 columns</p>\n",
       "</div>"
      ],
      "text/plain": [
       "                          nome                 Municipio  Populacao  \\\n",
       "885       Abadia de Goias (GO)      Abadia de Goias (GO)      19128   \n",
       "1901  Abadia dos Dourados (MG)  Abadia dos Dourados (MG)       6272   \n",
       "927             Abadiania (GO)            Abadiania (GO)      17228   \n",
       "1460               Abaete (MG)               Abaete (MG)      22675   \n",
       "2408           Abaetetuba (PA)           Abaetetuba (PA)     158188   \n",
       "...                        ...                       ...        ...   \n",
       "257           Xique-Xique (BA)          Xique-Xique (BA)      44757   \n",
       "2633               Zabele (PB)               Zabele (PB)       2228   \n",
       "5229             Zacarias (SP)             Zacarias (SP)       2692   \n",
       "1212              Ze Doca (MA)              Ze Doca (MA)      40801   \n",
       "4630               Zortea (SC)               Zortea (SC)       3930   \n",
       "\n",
       "      Domicilios  UF        Regiao  \n",
       "885         7866  GO  Centro Oeste  \n",
       "1901        3477  MG       Sudeste  \n",
       "927        10301  GO  Centro Oeste  \n",
       "1460       12156  MG       Sudeste  \n",
       "2408       51416  PA         Norte  \n",
       "...          ...  ..           ...  \n",
       "257        18031  BA      Nordeste  \n",
       "2633        1283  PB      Nordeste  \n",
       "5229        1617  SP       Sudeste  \n",
       "1212       16234  MA      Nordeste  \n",
       "4630        1770  SC           Sul  \n",
       "\n",
       "[5570 rows x 6 columns]"
      ]
     },
     "execution_count": 92,
     "metadata": {},
     "output_type": "execute_result"
    }
   ],
   "source": [
    "municipios_final2.sort_values(by='Municipio', na_position='last', inplace=True)\n",
    "municipios_final2"
   ]
  },
  {
   "cell_type": "markdown",
   "id": "4d3a535d",
   "metadata": {},
   "source": [
    "### Conversão dos DataFrames para Tabelas CSV"
   ]
  },
  {
   "cell_type": "code",
   "execution_count": 94,
   "id": "aa8068b7",
   "metadata": {},
   "outputs": [],
   "source": [
    "saida_csv_ibge = 'C:/Users/Carlos/Desktop/municipios_brasil_format2.csv'\n",
    "df_ibge.to_csv(saida_csv_ibge, index=False)"
   ]
  },
  {
   "cell_type": "code",
   "execution_count": 95,
   "id": "803c95a1",
   "metadata": {},
   "outputs": [],
   "source": [
    "saida_csv_aneel = 'C:/Users/Carlos/Desktop/energia_distribuida_brasil_format2.csv'\n",
    "df_aneel.to_csv(saida_csv_aneel, index=False)"
   ]
  },
  {
   "cell_type": "markdown",
   "id": "8ba21519",
   "metadata": {},
   "source": [
    "### OBS: Processo segue com modelagem de dados sendo feita no PostgreSQL."
   ]
  }
 ],
 "metadata": {
  "kernelspec": {
   "display_name": "Python 3 (ipykernel)",
   "language": "python",
   "name": "python3"
  },
  "language_info": {
   "codemirror_mode": {
    "name": "ipython",
    "version": 3
   },
   "file_extension": ".py",
   "mimetype": "text/x-python",
   "name": "python",
   "nbconvert_exporter": "python",
   "pygments_lexer": "ipython3",
   "version": "3.9.12"
  }
 },
 "nbformat": 4,
 "nbformat_minor": 5
}
